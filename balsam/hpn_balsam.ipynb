{
 "cells": [
  {
   "cell_type": "code",
   "execution_count": 1,
   "metadata": {},
   "outputs": [
    {
     "name": "stdout",
     "output_type": "stream",
     "text": [
      "/bin/sh: /lus/theta-fs0/projects/connectomics_aesp/software/neurmessao_env_36/bin/activate: No such file or directory\n",
      "/lus/theta-fs0/projects/connectomics_aesp/software/neuro_env_36/bin/python: error while loading shared libraries: libpython3.6m.so.1.0: cannot open shared object file: No such file or directory\n"
     ]
    }
   ],
   "source": [
    "# The magic commands below allow reflecting the changes in an imported module without restarting the kernel.\n",
    "%load_ext autoreload\n",
    "%autoreload 2\n",
    "\n",
    "\n",
    "!source /lus/theta-fs0/projects/connectomics_aesp/software/neurmessao_env_36/bin/activate\n",
    "!/lus/theta-fs0/projects/connectomics_aesp/software/neuro_env_36/bin/python -m ipykernel install --user --name jhub_neurenev36"
   ]
  },
  {
   "cell_type": "code",
   "execution_count": 2,
   "metadata": {},
   "outputs": [
    {
     "name": "stdout",
     "output_type": "stream",
     "text": [
      "(\"Python search path includes: ['/soft/datascience/Balsam/0.3.5.1/', \"\n",
      " \"'/soft/datascience/Balsam/0.3.5.1/env/lib/python3.6/site-packages/', \"\n",
      " \"'/opt/anaconda3/lib/python36.zip', '/opt/anaconda3/lib/python3.6', \"\n",
      " \"'/opt/anaconda3/lib/python3.6/lib-dynload', '', \"\n",
      " \"'/opt/anaconda3/lib/python3.6/site-packages', \"\n",
      " \"'/opt/anaconda3/lib/python3.6/site-packages/Mako-1.0.7-py3.6.egg', \"\n",
      " \"'/opt/anaconda3/lib/python3.6/site-packages/IPython/extensions', \"\n",
      " \"'/gpfs/mira-home/rvescovi/.ipython']\")\n",
      "Created new app\n",
      "Created new app\n",
      "Created new app\n",
      "Created new app\n",
      "Created new app\n",
      "Created new app\n",
      "Created new app\n",
      "Created new app\n",
      "Created new app\n",
      "Updated existing app\n",
      "Updated existing app\n",
      "/lus/theta-fs0/projects/connectomics_aesp/ravescovi/balsam_db\n"
     ]
    }
   ],
   "source": [
    "# We need to add balsam and the modules it depends on to the Python search paths. \n",
    "import sys\n",
    "sys.path.insert(0,'/soft/datascience/Balsam/0.3.5.1/env/lib/python3.6/site-packages/')\n",
    "sys.path.insert(0,'/soft/datascience/Balsam/0.3.5.1/')\n",
    "\n",
    "import matplotlib.pyplot\n",
    "#sys.path.insert(0,'/lus/theta-fs0/projects/connectomics_aesp/software/neuro_env_36/lib/python3.6/site-packages/')\n",
    "\n",
    "\n",
    "from pprint import pprint\n",
    "pprint(f'Python search path includes: {sys.path}')\n",
    "\n",
    "# We also need postgresql to be in the path\n",
    "import os\n",
    "os.environ['PATH'] ='/soft/datascience/Balsam/0.3.5.1/env/bin/:' + os.environ['PATH']\n",
    "os.environ['PATH'] +=':/soft/datascience/PostgreSQL/9.6.12/bin/'\n",
    "\n",
    "try:\n",
    "    import balsam\n",
    "except:\n",
    "    print('Cannot find balsam, make sure balsam is installed or it is available in Python search paths')    \n",
    "\n",
    "    # We also need to activate Balsam database by setting the BALSAM_DB_PATH environment variable. \n",
    "# This is equivalent to `source balsamactivate jupyter_test` \n",
    "os.environ[\"BALSAM_DB_PATH\"]='/lus/theta-fs0/projects/connectomics_aesp/ravescovi/balsam_db/'\n",
    "\n",
    "\n",
    "from balsam_helper import *\n",
    "import hpn_balsam_apps\n",
    "\n",
    "\n",
    "print(os.environ[\"BALSAM_DB_PATH\"])"
   ]
  },
  {
   "cell_type": "markdown",
   "metadata": {},
   "source": [
    "# TRAKEM2 MONTAGE JOB"
   ]
  },
  {
   "cell_type": "code",
   "execution_count": 6,
   "metadata": {},
   "outputs": [
    {
     "name": "stdout",
     "output_type": "stream",
     "text": [
      "Updated existing app\n",
      "Updated existing app\n",
      "Updated existing app\n",
      "Updated existing app\n",
      "Updated existing app\n",
      "Updated existing app\n",
      "Updated existing app\n",
      "Updated existing app\n",
      "Updated existing app\n",
      "Updated existing app\n",
      "Updated existing app\n",
      "Input: /lus/theta-fs0/projects/connectomics_aesp/pipeline_data/trakem2_HL00732_run/trakem2_HL00732/\n",
      "Output: /lus/theta-fs0/projects/connectomics_aesp/pipeline_data/trakem2_HL00732_run/trakem2_balsam5/align_raw.txt\n",
      "(14000, 10833)\n",
      "14000 10833 0 254 uint8\n",
      "8bit\n",
      " /lus/theta-fs0/projects/connectomics_aesp/pipeline_data/trakem2_HL00732_run/trakem2_balsam5//align_raw.txt  /lus/theta-fs0/projects/connectomics_aesp/pipeline_data/trakem2_HL00732_run/trakem2_balsam5/  --min 1000  --max 1500  --fiji /lus/theta-fs0/projects/connectomics_aesp/software/Fiji.app/ImageJ-linux64 \n",
      "Trakem2 Montage Job added\n",
      "None\n"
     ]
    }
   ],
   "source": [
    "##User Inputs\n",
    "workflow = \"trakem2_test_v1\"\n",
    "RAW_INPUT=\"/lus/theta-fs0/projects/connectomics_aesp/pipeline_data/trakem2_HL00732_run/trakem2_HL00732/\"\n",
    "PROCESS_FOLDER=\"/lus/theta-fs0/projects/connectomics_aesp/pipeline_data/trakem2_HL00732_run/trakem2_balsam5/\"\n",
    "TARGET_FOLDER =\"\"\n",
    "MIN=1000\n",
    "MAX=1500\n",
    "\n",
    "##Balsam Add Montage Job\n",
    "montage_job = hpn_balsam_apps.sem_montage_job(workflow, RAW_INPUT, PROCESS_FOLDER,target=TARGET_FOLDER, min=MIN, max=MAX, num_nodes=2)\n",
    "print(montage_job)"
   ]
  },
  {
   "cell_type": "markdown",
   "metadata": {},
   "source": [
    "# TRAKEM2 ALIGN JOB"
   ]
  },
  {
   "cell_type": "code",
   "execution_count": null,
   "metadata": {},
   "outputs": [],
   "source": []
  },
  {
   "cell_type": "markdown",
   "metadata": {},
   "source": [
    "# TRAKEM2 SCRATCH SPACE"
   ]
  },
  {
   "cell_type": "code",
   "execution_count": null,
   "metadata": {},
   "outputs": [],
   "source": [
    "# python $PRE_STACK $PROCESS_FOLDER/output $PROCESS_FOLDER/align_new.txt #input #output\n",
    "\n",
    "#SERIAL SINGLE NODE OPERATION!!!\n",
    "# $SUBMIT_THETA python $ALIGN $PROCESS_FOLDER/align_new.txt $PROCESS_FOLDER/align1 --fiji $FIJI\n",
    "\n",
    "#$SUBMIT_THETA python $EXPORT $PROCESS_FOLDER/align_new.txt $PROCESS_FOLDER/align1 --range $RANGE --fiji $FIJI\n",
    "#sleep 1\n",
    "\n"
   ]
  },
  {
   "cell_type": "markdown",
   "metadata": {},
   "source": [
    "# FFN Compute Partitions"
   ]
  },
  {
   "cell_type": "code",
   "execution_count": null,
   "metadata": {},
   "outputs": [],
   "source": []
  },
  {
   "cell_type": "markdown",
   "metadata": {},
   "source": [
    "# FFN Build Coordinates"
   ]
  },
  {
   "cell_type": "code",
   "execution_count": null,
   "metadata": {},
   "outputs": [],
   "source": []
  },
  {
   "cell_type": "markdown",
   "metadata": {},
   "source": [
    "# Flood Fill Network Training Job"
   ]
  },
  {
   "cell_type": "code",
   "execution_count": 23,
   "metadata": {},
   "outputs": [
    {
     "ename": "SyntaxError",
     "evalue": "f-string expression part cannot include a backslash (<ipython-input-23-9e0063c2d800>, line 20)",
     "output_type": "error",
     "traceback": [
      "\u001b[0;36m  File \u001b[0;32m\"<ipython-input-23-9e0063c2d800>\"\u001b[0;36m, line \u001b[0;32m20\u001b[0m\n\u001b[0;31m    myargs += f' --model_args \\\"\\{\\\\\"depth\\\\\": {DEPTH}, \\\\\"fov_size\\\\\": [{FOV}], \\\\\"deltas\\\\\": [{DELTA}]\\}\\\"'\u001b[0m\n\u001b[0m             ^\u001b[0m\n\u001b[0;31mSyntaxError\u001b[0m\u001b[0;31m:\u001b[0m f-string expression part cannot include a backslash\n"
     ]
    }
   ],
   "source": [
    "import time\n",
    "TFRECORDFILE='/lus/theta-fs0/projects/datascience/keceli/run/f3n/training/tf_record_file'\n",
    "GROUNDTRUTH='/lus/theta-fs0/projects/datascience/keceli/run/f3n/training/groundtruth.h5'\n",
    "GRAYSCALE='/lus/theta-fs0/projects/datascience/keceli/run/f3n/training/grayscale_maps.h5'\n",
    "BATCHSIZE=1\n",
    "OPTIMIZER='adam'\n",
    "TIMESTAMP=time.strftime(\"%y%m%d%H%M%S\")\n",
    "TRAINDIR=f'train_b{BATCHSIZE}_o{OPTIMIZER}_{TIMESTAMP}'\n",
    "DEPTH = 12\n",
    "FOV = \"33, 33, 33\" \n",
    "DELTA = \"8, 8, 8\"\n",
    "\n",
    "##make all of bellow into a single function that receives all of the above!!\n",
    "\n",
    "myargs = ''\n",
    "myargs += f' --train_coords {TFRECORDFILE} '\n",
    "myargs += f' --data_volumes valdation1:{GRAYSCALE}:raw '\n",
    "myargs += f' --label_volumes valdation1:{GROUNDTRUTH}:stack '\n",
    "myargs += f' --model_name convstack_3d.ConvStack3DFFNModel '\n",
    "#myargs += f' --model_args \\\"\\{\\\\\"depth\\\\\": {DEPTH}, \\\\\"fov_size\\\\\": [{FOV}], \\\\\"deltas\\\\\": [{DELTA}]\\}\\\"'\n",
    "myargs += ''' --model_args \"{\\\\\"depth\\\\\": 12, \\\\\"fov_size\\\\\": [33, 33, 33], \\\\\"deltas\\\\\": [8, 8, 8]}\"'''\n",
    "myargs += ' --image_mean 128 --image_stddev 33 '\n",
    "myargs += ' --max_steps 400 --summary_rate_secs 60 ' \n",
    "myargs += f' --batch_size {BATCHSIZE} '\n",
    "myargs += f' --optimizer {OPTIMIZER} '\n",
    "myargs += ' --num_intra_threads 64 --num_inter_threads 1 '\n",
    "myargs += f' --train_dir {TRAINDIR} '\n",
    "print(myargs)\n",
    "\n",
    "add_job(name='test_train',workflow='ffn_training',application='trainer',args=myargs)"
   ]
  },
  {
   "cell_type": "markdown",
   "metadata": {},
   "source": [
    "# Flood Fill Network Inference Job"
   ]
  },
  {
   "cell_type": "code",
   "execution_count": 63,
   "metadata": {},
   "outputs": [
    {
     "name": "stdout",
     "output_type": "stream",
     "text": [
      "image {\n",
      "                  hdf5: \"input_file_parallel.h5:image\"\n",
      "                }\n",
      "                image_mean: 100\n",
      "                image_stddev: 30\n",
      "                checkpoint_interval: 1800\n",
      "                seed_policy: \"PolicyPeaks\"\n",
      "                model_checkpoint_path: \"model_vessel/model.ckpt-1680104\"\n",
      "                model_name: \"convstack_3d.ConvStack3DFFNModel\"\n",
      "                model_args: \"{\\\"depth\\\": 2, \\\"fov_size\\\": [5,5,5], \\\"deltas\\\": [1, 1, 1]}\"\n",
      "                segmentation_output_dir: \"results_test_parallel6\"\n",
      "                inference_options {\n",
      "                  init_activation: 0.9\n",
      "                  pad_value: 0.05\n",
      "                  move_threshold: 0.1\n",
      "                  min_boundary_dist { x: 1 y: 1 z: 1}\n",
      "                  segment_threshold: 0.08\n",
      "                  min_segment_size: 10\n",
      "                }\n",
      "Number of subvolumes: 125\n"
     ]
    }
   ],
   "source": [
    "# Add inference jobs for each subvolume\n",
    "\n",
    "\n",
    "INPUT_FILE = 'input_file_parallel.h5'\n",
    "INPUT_DSET = 'image'\n",
    "OUTPUT_FILE = 'output_file_parallel.h5'\n",
    "OUTPUT_DSET = 'image'\n",
    "OUTPUT_PATH = 'results_test_parallel6'\n",
    "MEAN = 100\n",
    "STD = 30\n",
    "MODEL_PATH = 'model_vessel/model.ckpt-1680104'\n",
    "DEPTH = 2\n",
    "START = (0,0,0)\n",
    "SIZE = (1000,1000,1000)\n",
    "CHUNK_SIZE = (256,256,256)\n",
    "OVERLAP = (16,16,16)\n",
    "\n",
    "\n",
    "##cleanup all of the bellow to receive in a single function all of the above.\n",
    "\n",
    "bbox = bounding_box.BoundingBox(start=START,size=SIZE)\n",
    "pars =  (INPUT_FILE,INPUT_DSET, MEAN, STD, MODEL_PATH, OUTPUT_PATH)\n",
    "\n",
    "test = create_inference_config(pars, 'test')\n",
    "config_file = '/lus/theta-fs0/projects/connectomics_aesp/ravescovi/ffn_vessels_overlay_sean_anno/wholebrain.pbtxt'\n",
    "\n",
    "boxes = divide_bounding_box(bbox,subvolume_size=CHUNK_SIZE,overlap=OVERLAP)\n",
    "print(f'Number of subvolumes: {len(boxes)}')\n",
    "\n",
    "generate_balsam_inference_jobs(boxes, config_file, workflow_name='inference_8_8_v13')\n"
   ]
  },
  {
   "cell_type": "markdown",
   "metadata": {},
   "source": [
    "# BALSAM WORKFLOW SUBMISSION"
   ]
  },
  {
   "cell_type": "code",
   "execution_count": 4,
   "metadata": {},
   "outputs": [
    {
     "name": "stdout",
     "output_type": "stream",
     "text": [
      "Submit OK: Qlaunch {   'command': '/lus/theta-fs0/projects/connectomics_aesp/ravescovi/balsam_db/qsubmit/qlaunch1.sh',\n",
      "    'from_balsam': True,\n",
      "    'id': 1,\n",
      "    'job_mode': 'mpi',\n",
      "    'nodes': 4,\n",
      "    'prescheduled_only': False,\n",
      "    'project': 'connectomics_aesp',\n",
      "    'queue': 'debug-flat-quad',\n",
      "    'scheduler_id': 380745,\n",
      "    'state': 'submitted',\n",
      "    'wall_minutes': 40,\n",
      "    'wf_filter': 'trakem2_test_v1'}\n"
     ]
    }
   ],
   "source": [
    "# If you see 'Submit OK:', Job submission is succesful.\n",
    "\n",
    "workflow = 'trakem2_test_v1'\n",
    "\n",
    "submit(project='connectomics_aesp',\n",
    "       queue='debug-flat-quad',\n",
    "       nodes=4,\n",
    "       job_mode='mpi',\n",
    "       wall_minutes=40,\n",
    "       wf_filter=workflow)\n"
   ]
  },
  {
   "cell_type": "markdown",
   "metadata": {},
   "source": [
    "# BALSAM WORKFLOW ANALISER"
   ]
  },
  {
   "cell_type": "code",
   "execution_count": 90,
   "metadata": {
    "scrolled": true
   },
   "outputs": [
    {
     "data": {
      "text/plain": [
       "<matplotlib.legend.Legend at 0x7fc8f0cbcb00>"
      ]
     },
     "execution_count": 90,
     "metadata": {},
     "output_type": "execute_result"
    },
    {
     "data": {
      "image/png": "[encoded data removed]",
      "text/plain": [
       "<Figure size 432x288 with 1 Axes>"
      ]
     },
     "metadata": {
      "needs_background": "light"
     },
     "output_type": "display_data"
    }
   ],
   "source": [
    "# Balsam metadata\n",
    "from balsam.core.models import utilization_report, throughput_report, process_job_times, BalsamJob\n",
    "from matplotlib import pyplot as plt\n",
    "\n",
    "workflow = \"trakem2_test_v3\"\n",
    "\n",
    "##useful stuff\n",
    "query = BalsamJob.objects.filter(workflow=workflow)\n",
    "time_dat = process_job_times(query) #filters into a single workflow\n",
    "[j.runtime_seconds for j in query] # full time per balsam Job\n",
    "\n",
    "times_created, num_created = sorted(time_dat['CREATED']), range(1, len(time_dat[\"CREATED\"])+1)\n",
    "\n",
    "t0 = min(times_created)\n",
    "\n",
    "def mins(t):\n",
    "    return (t-t0).total_seconds() / 60\n",
    "\n",
    "plt.step([mins(t) for t in times_created] ,num_created, 'o', where='post',label='creation')\n",
    "times, num_thru = throughput_report(time_dat)\n",
    "plt.step([mins(t) for t in times], num_thru,  'o', where='post', label='done')\n",
    "\n",
    "times_u, num_util = utilization_report(time_dat)\n",
    "plt.step([mins(t) for t in times_u], num_util, 'o', where='post', label='utilization')\n",
    "plt.legend()"
   ]
  },
  {
   "cell_type": "markdown",
   "metadata": {},
   "source": [
    "# Flood Fill Network MultScale Training Job"
   ]
  },
  {
   "cell_type": "code",
   "execution_count": null,
   "metadata": {},
   "outputs": [],
   "source": [
    "#multiscale training job\n",
    "TFRECORDFILE='/lus/theta-fs0/projects/datascience/keceli/run/f3n/training/tf_record_file'\n",
    "GROUNDTRUTH='/lus/theta-fs0/projects/datascience/keceli/run/f3n/training/groundtruth.h5'\n",
    "GRAYSCALE='/lus/theta-fs0/projects/datascience/keceli/run/f3n/training/grayscale_maps.h5'\n",
    "BATCHSIZE=1\n",
    "OPTIMIZER='adam'\n",
    "\n",
    "MAGS = [1,2,4,8,16]\n",
    "\n",
    "##DOWNSAMPLE INPUT DATA AND ORGANIZE DIRS\n",
    "#for mag in MAGS:\n",
    "    \n",
    "    \n",
    "for mag in MAGS:    \n",
    "    TRAINDIR=f'train_b{BATCHSIZE}_o{OPTIMIZER}_m{mag}_{TIMESTAMP}'\n",
    "    myargs = ''\n",
    "    myargs += f' --train_coords {TFRECORDFILE} '\n",
    "    myargs += f' --data_volumes valdation1:{GRAYSCALE}:raw '\n",
    "    myargs += f' --label_volumes valdation1:{GROUNDTRUTH}:stack '\n",
    "    myargs += f' --model_name convstack_3d.ConvStack3DFFNModel '\n",
    "    myargs += ''' --model_args \"{\\\\\"depth\\\\\": 12, \\\\\"fov_size\\\\\": [33, 33, 33], \\\\\"deltas\\\\\": [8, 8, 8]}\"'''\n",
    "    myargs += ' --image_mean 128 --image_stddev 33 '\n",
    "    myargs += ' --max_steps 40000000 --summary_rate_secs 360 ' \n",
    "    myargs += f' --batch_size {BATCHSIZE} '\n",
    "    myargs += f' --optimizer {OPTIMIZER} '\n",
    "    myargs += ' --num_intra_threads 64 --num_inter_threads 1 '\n",
    "    myargs += f' --train_dir {TRAINDIR} '\n",
    "\n",
    "    add_job(name=f'train_mag{mag}',\n",
    "            workflow='ffn_training',\n",
    "            application='trainer',\n",
    "            args=myargs,\n",
    "            ranks_per_node=rpn,\n",
    "            num_nodes=nnode,\n",
    "            environ_vars={'OMP_NUM_THREADS=64'})"
   ]
  },
  {
   "cell_type": "markdown",
   "metadata": {},
   "source": [
    "# Scratch Space Bellow"
   ]
  },
  {
   "cell_type": "code",
   "execution_count": 5,
   "metadata": {},
   "outputs": [],
   "source": [
    "# Adding a training job to the database\n",
    "import time\n",
    "TFRECORDFILE='/lus/theta-fs0/projects/datascience/keceli/run/f3n/training/tf_record_file'\n",
    "GROUNDTRUTH='/lus/theta-fs0/projects/datascience/keceli/run/f3n/training/groundtruth.h5'\n",
    "GRAYSCALE='/lus/theta-fs0/projects/datascience/keceli/run/f3n/training/grayscale_maps.h5'\n",
    "BATCHSIZE=1\n",
    "OPTIMIZER='adam'\n",
    "TIMESTAMP=time.strftime(\"%y%m%d%H%M%S\")\n",
    "for rpn in [1,4,16]:\n",
    "    for nnode in [1,4,16,64]:\n",
    "        TRAINDIR=f'train_b{BATCHSIZE}_o{OPTIMIZER}_n{nnode}_r{rpn}_{TIMESTAMP}'\n",
    "        myargs = ''\n",
    "        myargs += f' --train_coords {TFRECORDFILE} '\n",
    "        myargs += f' --data_volumes valdation1:{GRAYSCALE}:raw '\n",
    "        myargs += f' --label_volumes valdation1:{GROUNDTRUTH}:stack '\n",
    "        myargs += f' --model_name convstack_3d.ConvStack3DFFNModel '\n",
    "        myargs += ''' --model_args \"{\\\\\"depth\\\\\": 12, \\\\\"fov_size\\\\\": [33, 33, 33], \\\\\"deltas\\\\\": [8, 8, 8]}\"'''\n",
    "        myargs += ' --image_mean 128 --image_stddev 33 '\n",
    "        myargs += ' --max_steps 40000000 --summary_rate_secs 360 ' \n",
    "        myargs += f' --batch_size {BATCHSIZE} '\n",
    "        myargs += f' --optimizer {OPTIMIZER} '\n",
    "        myargs += ' --num_intra_threads 64 --num_inter_threads 1 '\n",
    "        myargs += f' --train_dir {TRAINDIR} '\n",
    "\n",
    "        add_job(name=f'train_n{nnode}_r{rpn}',\n",
    "                workflow='ffn_training',\n",
    "                application='trainer',\n",
    "                args=myargs,\n",
    "                ranks_per_node=rpn,\n",
    "                num_nodes=nnode,\n",
    "                environ_vars={'OMP_NUM_THREADS=64'})"
   ]
  },
  {
   "cell_type": "code",
   "execution_count": 42,
   "metadata": {},
   "outputs": [],
   "source": [
    "##ALIGNTK APPS \n",
    "\n",
    "from glob import glob\n",
    "\n",
    "##TODO jobalize the layers bellow\n",
    "\n",
    "#!/bin/bash\n",
    "#COBALT -t 180\n",
    "#COBALT -n 128\n",
    "#COBALT -q default\n",
    "#COBALT -A connectomics_aesp\n",
    "\n",
    "# NODES=$COBALT_JOBSIZE\n",
    "# PROC_PER_NODE=64\n",
    "# PROC=$((NODES * PROC_PER_NODE))\n",
    "PROC=777\n",
    "\n",
    "ALIGNTK_DIR=\"/lus/theta-fs0/projects/connectomics_aesp/software/aligntk-1.0.2/install/bin\"\n",
    "IMAGE_DIR=\"/lus/theta-fs0/projects/connectomics_aesp/pipeline_data/trakem2_HL00732_run/trakem2_HL00732_process_1/output/\"\n",
    "MASK_DIR=\"/lus/theta-fs0/projects/connectomics_aesp/pipeline_data/aligntk_HL00732/out1_mask\"\n",
    "OUTPUT_DIR=\"/lus/theta-fs0/projects/connectomics_aesp/pipeline_data/aligntk_HL00732/out1\"\n",
    "GROUP_SIZE=PROC-1\n",
    "N_IMAGES= len(glob(IMAGE_DIR+'*'))\n",
    "N_GROUPS=((N_IMAGES / GROUP_SIZE + 1))\n",
    "\n",
    "\n",
    "def aligntk_create_dirs(OUTPUT_DIR, MASK_DIR):\n",
    "    os.mkdir(OUTPUT_DIR)\n",
    "    os.mkdir(MASK_DIR)\n",
    "    os.mkdir(OUTPUT_DIR+'/cmaps')\n",
    "    os.mkdir(OUTPUT_DIR+'/logs')\n",
    "    os.mkdir(OUTPUT_DIR+'/amaps')\n",
    "    os.mkdir(OUTPUT_DIR+'/grids')\n",
    "    os.mkdir(OUTPUT_DIR+'/maps')\n",
    "    os.mkdir(OUTPUT_DIR+'/aligned')\n",
    "    \n",
    "\n",
    "def make_schedule(OUTPUT_DIR):\n",
    "    \n",
    "    schedule = ['10   1.0  0.1',\n",
    "                '9   1.0  0.1',\n",
    "                '8   1.0  0.3',\n",
    "                '7   1.0  1.0',\n",
    "                '7   1.0  2.0',\n",
    "                '7   1.0  5.0',\n",
    "                '6   1.0  5.0']\n",
    "    \n",
    "    file = open(OUTPUT_DIR+\"/schedule.lst\",\"w+\") \n",
    "    for L in schedule:\n",
    "        file.writelines(L)\n",
    "        file.writelines('\\n')\n",
    "    file.close() \n",
    " "
   ]
  },
  {
   "cell_type": "code",
   "execution_count": null,
   "metadata": {},
   "outputs": [],
   "source": [
    "print(\"Total image count: \"+str(N_IMAGES))\n",
    "print(\"Number of groups: \"+str(N_GROUPS))\n",
    "\n",
    "#aligntk_create_dirs(OUTPUT_DIR, MASK_DIR)\n",
    "#make_schedule(OUTPUT_DIR)\n",
    "#preprocess_main(IMAGE_DIR, OUTPUT_DIR, 12)\n",
    "\n",
    "from happyneuron.aligntk.preprocess import *\n",
    "\n",
    "def aligntk_preprocess_job(image_dir, mask_dir, low, high, kernel, workflow)\n",
    "\n",
    "\n",
    "  #aprun -n 777 -N $PROC_PER_NODE python -m klab_utils.aligntk_gen_mask --image_dir $IMAGE_DIR --mask_dir $MASK_DIR --low 10 --high 240 --kernel 10\n",
    "      pass"
   ]
  },
  {
   "cell_type": "code",
   "execution_count": null,
   "metadata": {},
   "outputs": [],
   "source": [
    "\n",
    "add_app(name='aligntk_findrst',\n",
    "        executable='python /lus/theta-fs0/projects/connectomics_aesp/software/HappyNeuron/happyneuron/aligntk/find_rst.py',\n",
    "        description='AlignTK Apply Map',\n",
    "        envscript=env_preamble)\n",
    "\n",
    "def aligntk_rst_job( aligntk=''):\n",
    "\n",
    "    \n",
    "    for i in np.arange(N_GROUPS):\n",
    "#  aprun -n $PROC -N $PROC_PER_NODE $ALIGNTK_DIR/find_rst -pairs pairs$i.lst -tif -images $IMAGE_DIR -mask $MASK_DIR -output $OUTPUT_DIR/cmaps/ -rotation -15-15 -max_res 8192 -scale 0.8-1.2 -tx -30-30 -ty -30-30 -summary $OUTPUT_DIR/cmaps/summary$i.out\n",
    "\n",
    "    pass"
   ]
  },
  {
   "cell_type": "code",
   "execution_count": 52,
   "metadata": {},
   "outputs": [
    {
     "name": "stdout",
     "output_type": "stream",
     "text": [
      "Total image count: 104\n",
      "Number of groups: 1.134020618556701\n",
      "{0: ['S_0000',\n",
      "     'S_0001',\n",
      "     'S_0002',\n",
      "     'S_0003',\n",
      "     'S_0004',\n",
      "     'S_0005',\n",
      "     'S_0006',\n",
      "     'S_0007',\n",
      "     'S_0008',\n",
      "     'S_0009',\n",
      "     'S_0010',\n",
      "     'S_0011'],\n",
      " 1: ['S_0011',\n",
      "     'S_0012',\n",
      "     'S_0013',\n",
      "     'S_0014',\n",
      "     'S_0015',\n",
      "     'S_0016',\n",
      "     'S_0017',\n",
      "     'S_0018',\n",
      "     'S_0019',\n",
      "     'S_0020',\n",
      "     'S_0021',\n",
      "     'S_0022',\n",
      "     'S_0023'],\n",
      " 2: ['S_0023',\n",
      "     'S_0024',\n",
      "     'S_0025',\n",
      "     'S_0026',\n",
      "     'S_0027',\n",
      "     'S_0028',\n",
      "     'S_0029',\n",
      "     'S_0030',\n",
      "     'S_0031',\n",
      "     'S_0032',\n",
      "     'S_0033',\n",
      "     'S_0034',\n",
      "     'S_0035'],\n",
      " 3: ['S_0035',\n",
      "     'S_0036',\n",
      "     'S_0037',\n",
      "     'S_0038',\n",
      "     'S_0039',\n",
      "     'S_0040',\n",
      "     'S_0041',\n",
      "     'S_0042',\n",
      "     'S_0043',\n",
      "     'S_0044',\n",
      "     'S_0045',\n",
      "     'S_0047',\n",
      "     'S_0051'],\n",
      " 4: ['S_0051',\n",
      "     'S_0052',\n",
      "     'S_0053',\n",
      "     'S_0057',\n",
      "     'S_0058',\n",
      "     'S_0059',\n",
      "     'S_0061',\n",
      "     'S_0062',\n",
      "     'S_0063',\n",
      "     'S_0064',\n",
      "     'S_0065',\n",
      "     'S_0066',\n",
      "     'S_0068'],\n",
      " 5: ['S_0068',\n",
      "     'S_0070',\n",
      "     'S_0071',\n",
      "     'S_0074',\n",
      "     'S_0078',\n",
      "     'S_0079',\n",
      "     'S_0080',\n",
      "     'S_0082',\n",
      "     'S_0087',\n",
      "     'S_0089',\n",
      "     'S_0090',\n",
      "     'S_0092',\n",
      "     'S_0094'],\n",
      " 6: ['S_0094',\n",
      "     'S_0099',\n",
      "     'S_0102',\n",
      "     'S_0103',\n",
      "     'S_0104',\n",
      "     'S_0105',\n",
      "     'S_0118',\n",
      "     'S_0120',\n",
      "     'S_0144',\n",
      "     'S_0157',\n",
      "     'S_0159',\n",
      "     'S_0160',\n",
      "     'S_0166'],\n",
      " 7: ['S_0166',\n",
      "     'S_0175',\n",
      "     'S_0178',\n",
      "     'S_0181',\n",
      "     'S_0185',\n",
      "     'S_0189',\n",
      "     'S_0190',\n",
      "     'S_0199',\n",
      "     'S_0203',\n",
      "     'S_0210',\n",
      "     'S_0218',\n",
      "     'S_0226',\n",
      "     'S_0228'],\n",
      " 8: ['S_0228',\n",
      "     'S_0241',\n",
      "     'S_0243',\n",
      "     'S_0256',\n",
      "     'S_0284',\n",
      "     'S_0292',\n",
      "     'S_0327',\n",
      "     'S_0332',\n",
      "     'S_0334']}\n"
     ]
    }
   ],
   "source": [
    "def aligntk_register_job():\n",
    "    \n",
    "#\n",
    "## register\n",
    "#for (( i=0; i<$N_GROUPS; i++ ))\n",
    "#do\n",
    "#  echo \"register: $i\"\n",
    "#  START=`date +\"%s\"`\n",
    "#  aprun -n $PROC -N $PROC_PER_NODE $ALIGNTK_DIR/register -pairs pairs$i.lst -images $IMAGE_DIR -mask $MASK_DIR -tif -output $OUTPUT_DIR/maps/ -distortion 6.0 -output_level 6 -depth 6 -quality 0.5 -summary $OUTPUT_DIR/maps/summary$i.out -initial_map $OUTPUT_DIR/cmaps/\n",
    "#\tNOW=`date +\"%s\"`\n",
    "#\techo $(((NOW - START)/60)) minutes\n",
    "#done\n",
    "\n",
    "#echo \"register\"\n",
    "#START=`date +\"%s\"`\n",
    "#aprun -n $PROC -N $PROC_PER_NODE $ALIGNTK_DIR/register -pairs pairs.lst -images $IMAGE_DIR -mask $MASK_DIR -tif -output $OUTPUT_DIR/maps/ -distortion 4.0 -output_level 6 -depth 6 -quality 0.3 -summary $OUTPUT_DIR/maps/summary.out -initial_map $OUTPUT_DIR/cmaps/\n",
    "#NOW=`date +\"%s\"`\n",
    "\n",
    "    pass"
   ]
  },
  {
   "cell_type": "code",
   "execution_count": null,
   "metadata": {},
   "outputs": [],
   "source": [
    "def aligntk_align_job():\n",
    "## align\n",
    "#FIXED=`head images.lst -n 1`\n",
    "# echo \"align\"\n",
    "# START=`date +\"%s\"`\n",
    "# aprun -n 8192 -N 64 $ALIGNTK_DIR/align -images $IMAGE_DIR -image_list images.lst -map_list pairs.lst -maps $OUTPUT_DIR/maps/ -masks $MASK_DIR -output $OUTPUT_DIR/amaps/ -schedule schedule.lst -incremental -output_grid $OUTPUT_DIR/grids/ -grid_size 8192x8192 -fold_recovery 60\n",
    "#aprun -n $PROC -N $PROC_PER_NODE $ALIGNTK_DIR/align -images $IMAGE_DIR -image_list images.lst -map_list pairs.lst -masks $MASK_DIR -maps $OUTPUT_DIR/maps/ -output $OUTPUT_DIR/amaps/ -schedule schedule.lst -incremental -output_grid $OUTPUT_DIR/grids/ -grid_size 8192x8192 -fold_recovery 60\n",
    "# NOW=`date +\"%s\"`\n",
    "# echo $(((NOW - START)/60)) minutes\n",
    "    pass"
   ]
  },
  {
   "cell_type": "code",
   "execution_count": null,
   "metadata": {},
   "outputs": [],
   "source": [
    "def aligntk_applymap_job():\n",
    "#START=`date +\"%s\"`\n",
    "##$ALIGNTK_DIR/apply_map -image_list images.lst -images $IMAGE_DIR -maps $OUTPUT_DIR/amaps/ -output $OUTPUT_DIR/aligned/ -memory 150000\n",
    "#aprun -n 777 -N 64 python -m klab_utils.aligntk_mpi_apply_map ./outputs_v1/ --image_dir ../data/images_corr_v2/ --image_lst ./images.lst\n",
    "#\n",
    "#NOW=`date +\"%s\"`\n",
    "#echo $(((NOW - START)/60)) minutes\n",
    "    pass"
   ]
  }
 ],
 "metadata": {
  "kernelspec": {
   "display_name": "Python 3",
   "language": "python",
   "name": "python3"
  },
  "language_info": {
   "codemirror_mode": {
    "name": "ipython",
    "version": 3
   },
   "file_extension": ".py",
   "mimetype": "text/x-python",
   "name": "python",
   "nbconvert_exporter": "python",
   "pygments_lexer": "ipython3",
   "version": "3.6.8"
  }
 },
 "nbformat": 4,
 "nbformat_minor": 2
}
