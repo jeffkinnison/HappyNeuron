{
 "cells": [
  {
   "cell_type": "code",
   "execution_count": 1,
   "metadata": {},
   "outputs": [],
   "source": [
    "from knossos_utils import knossosdataset, skeleton\n",
    "import numpy as np\n",
    "import neuroglancer\n",
    "import os\n",
    "import h5py"
   ]
  },
  {
   "cell_type": "code",
   "execution_count": 2,
   "metadata": {},
   "outputs": [],
   "source": [
    "#Input of data Image path\n",
    "knossos_cube = './kcube/knossos.conf'\n",
    "\n",
    "#Input of data Image path\n",
    "knossos_anno = './kcube/annotation-20190214T1833.000.k.zip'\n",
    "    \n",
    "#setting working magnification\n",
    "mag = 1\n",
    "\n",
    "#setting of loading box\n",
    "box_size = [128,128,128]\n",
    "\n",
    "#setting the location of the upper corner of the box in the original kcube\n",
    "box_offset = [256,256,256]\n",
    "\n",
    "\n",
    "##edit here to delete unwanted labels\n",
    "delete_anno_low = 0 #will delete anything bellow #\n",
    "delete_anno_high = 1000 #will delete anything above #\n",
    "\n",
    "\n",
    "training_data_file = 'training_data'\n",
    "\n",
    "\n",
    "##END OF INPUTS"
   ]
  },
  {
   "cell_type": "code",
   "execution_count": 3,
   "metadata": {},
   "outputs": [
    {
     "name": "stdout",
     "output_type": "stream",
     "text": [
      "Progress: finished\n",
      "Speed: 147.319 MB or MPix /s, time 0.014235496520996094\n",
      "load complete!\n",
      "(128, 128, 128) uint8\n",
      "126.22100448608398 41.172601119937475\n"
     ]
    },
    {
     "name": "stderr",
     "output_type": "stream",
     "text": [
      "/home/rlab/Documents/workspace/knossos_utils/knossos_utils/knossosdataset.py:1101: UserWarning: You are using implicit channel selection. This possibility will soon be removed. Please call set_channel() before reading or writing data using KnossosDataset.\n",
      "  warnings.warn('You are using implicit channel selection. This possibility will soon be removed.'\n"
     ]
    }
   ],
   "source": [
    "##########DONT CHANGE\n",
    "#intiializing virtual cube experiment\n",
    "kd = knossosdataset.KnossosDataset()\n",
    "kd.initialize_from_knossos_path(knossos_cube)\n",
    "\n",
    "\n",
    "cube = kd.from_raw_cubes_to_matrix(\n",
    "  size=box_size, \n",
    "  offset=box_offset)\n",
    "\n",
    "print('load complete!')\n",
    "print(cube.shape, cube.dtype)\n",
    "print(cube.mean(), cube.std())\n",
    "##########DONT CHANGE"
   ]
  },
  {
   "cell_type": "code",
   "execution_count": 4,
   "metadata": {},
   "outputs": [
    {
     "name": "stdout",
     "output_type": "stream",
     "text": [
      "Progress: 100.00%knossos_cuber_project_mag1x2y2z2.seg.sz\n",
      "\n",
      "\n",
      "applying mergelist now\n",
      "Correct shape\n",
      "load complete!\n",
      "(128, 128, 128) uint64\n"
     ]
    }
   ],
   "source": [
    "##########DONT CHANGE\n",
    "anno = kd.from_kzip_to_matrix(\n",
    "  path=knossos_anno,\n",
    "  size=box_size,\n",
    "  offset=box_offset,\n",
    "  mag=mag, \n",
    "  verbose=True)\n",
    "\n",
    "print('load complete!')\n",
    "print(anno.shape, anno.dtype)\n",
    "##########DONT CHANGE"
   ]
  },
  {
   "cell_type": "markdown",
   "metadata": {},
   "source": [
    "Progress: finished\n",
    "Speed: 36.108 MB or MPix /s, time 0.11077737808227539\n",
    "Progress: 25.00%knossos_cuber_project_mag1_mag1x0y0z0.seg.sz\n",
    "Cube does not exist, cube with 0 only assigned\n",
    "Progress: 50.00%knossos_cuber_project_mag1_mag1x1y0z0.seg.sz\n",
    "Cube does not exist, cube with 0 only assigned\n",
    "Progress: 75.00%knossos_cuber_project_mag1_mag1x0y1z0.seg.sz\n",
    "Cube does not exist, cube with 0 only assigned\n",
    "Progress: 100.00%knossos_cuber_project_mag1_mag1x1y1z0.seg.sz\n",
    "Cube does not exist, cube with 0 only assigned\n",
    "applying mergelist now\n",
    "Correct shape"
   ]
  },
  {
   "cell_type": "code",
   "execution_count": 5,
   "metadata": {},
   "outputs": [
    {
     "name": "stdout",
     "output_type": "stream",
     "text": [
      "(128, 128, 128) uint8\n",
      "(128, 128, 128) uint64\n"
     ]
    }
   ],
   "source": [
    "print(cube.shape, cube.dtype)\n",
    "print(anno.shape, anno.dtype)\n",
    "\n",
    "anno[anno<delete_anno_low]  = 0\n",
    "anno[anno>delete_anno_high] = 0\n"
   ]
  },
  {
   "cell_type": "code",
   "execution_count": 6,
   "metadata": {},
   "outputs": [
    {
     "name": "stdout",
     "output_type": "stream",
     "text": [
      "(array([  0, 114, 121, 136, 185, 213, 255, 347, 437, 451, 478, 592, 636,\n",
      "       640, 644, 660, 737], dtype=uint64), array([2073568,     628,    2472,    1615,     895,    1060,    2155,\n",
      "          1294,    2806,    3381,     318,    1451,     141,    1009,\n",
      "           641,     781,    2937]))\n"
     ]
    }
   ],
   "source": [
    "ids = np.unique(anno[...],return_counts=1)\n",
    "print (ids)"
   ]
  },
  {
   "cell_type": "code",
   "execution_count": 7,
   "metadata": {},
   "outputs": [
    {
     "name": "stdout",
     "output_type": "stream",
     "text": [
      "http://127.0.0.1:39293/v/47d3591b47fbbd6066db7491fecde08bb442177f/\n"
     ]
    }
   ],
   "source": [
    "viewer = neuroglancer.Viewer()\n",
    "with viewer.txn() as s:\n",
    "  s.layers['image'] = neuroglancer.ImageLayer(\n",
    "    source=neuroglancer.LocalVolume(data=cube, volume_type='image'))\n",
    "  s.layers['labels'] = neuroglancer.SegmentationLayer(\n",
    "    source=neuroglancer.LocalVolume(data=anno, volume_type='segmentation',mesh_options={'max_quadrics_error':100}),segments=ids[0])\n",
    "print(viewer.get_viewer_url())"
   ]
  },
  {
   "cell_type": "code",
   "execution_count": 8,
   "metadata": {},
   "outputs": [],
   "source": [
    "del viewer"
   ]
  },
  {
   "cell_type": "code",
   "execution_count": 9,
   "metadata": {},
   "outputs": [
    {
     "name": "stdout",
     "output_type": "stream",
     "text": [
      "Working Dir\n",
      "/media/Trantor2/Public/ffn_test_goodpeople\n",
      "Cube Properties!\n",
      "uint8\n",
      "(128, 128, 128)\n",
      "Mean : 126.22100448608398\n",
      "Std : 41.172601119937475\n",
      "Labels Properties!\n",
      "int64\n",
      "(128, 128, 128)\n",
      "Ids Properties!\n",
      "(array([  0, 114, 121, 136, 185, 213, 255, 347, 437, 451, 478, 592, 636,\n",
      "       640, 644, 660, 737]), array([2073568,     628,    2472,    1615,     895,    1060,    2155,\n",
      "          1294,    2806,    3381,     318,    1451,     141,    1009,\n",
      "           641,     781,    2937]))\n",
      "Finished!! Goodbye!!\n"
     ]
    }
   ],
   "source": [
    "\n",
    "#this will create the training data for FFN from knossos files\n",
    "#change here for the training data filename\n",
    "\n",
    "\n",
    "\n",
    "#DONT TOUCH\n",
    "labels = anno.astype('int64')\n",
    "\n",
    "print (\"Working Dir\")\n",
    "print (os.getcwd())\n",
    "\n",
    "\n",
    "print ('Cube Properties!')\n",
    "print (cube.dtype)\n",
    "print (cube.shape)\n",
    "\n",
    "print ('Mean : '+str(cube.mean()))\n",
    "print ('Std : '+str(cube.std()))\n",
    "\n",
    "print ('Labels Properties!')\n",
    "print (labels.dtype)\n",
    "print (labels.shape)\n",
    "\n",
    "print ('Ids Properties!')\n",
    "ids = np.unique(labels,return_counts=1)\n",
    "print (ids)\n",
    "\n",
    "\n",
    "h5file = h5py.File(training_data_file+'.h5', 'w')\n",
    "h5file.create_dataset('image',data=cube)\n",
    "h5file.create_dataset('labels',data=labels)\n",
    "h5file.close()\n",
    "\n",
    "print (\"Finished!! Goodbye!!\")\n",
    "#DONT TOUCH"
   ]
  },
  {
   "cell_type": "code",
   "execution_count": null,
   "metadata": {},
   "outputs": [],
   "source": []
  }
 ],
 "metadata": {
  "kernelspec": {
   "display_name": "Python 3",
   "language": "python",
   "name": "python3"
  },
  "language_info": {
   "codemirror_mode": {
    "name": "ipython",
    "version": 3
   },
   "file_extension": ".py",
   "mimetype": "text/x-python",
   "name": "python",
   "nbconvert_exporter": "python",
   "pygments_lexer": "ipython3",
   "version": "3.7.3"
  }
 },
 "nbformat": 4,
 "nbformat_minor": 2
}
