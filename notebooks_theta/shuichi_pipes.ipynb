{
 "cells": [
  {
   "cell_type": "code",
   "execution_count": 1,
   "metadata": {},
   "outputs": [],
   "source": [
    "# The magic commands below allow reflecting the changes in an imported module without restarting the kernel.\n",
    "%load_ext autoreload\n",
    "%autoreload 2\n",
    "\n",
    "\n",
    "# !source /lus/theta-fs0/projects/connectomics_aesp/software/neuro_env_36/bin/activate-nomodules && /lus/theta-fs0/projects/connectomics_aesp/software/neuro_env_36/bin/python -m ipykernel install --user --name jhub_neurenev36"
   ]
  },
  {
   "cell_type": "code",
   "execution_count": 2,
   "metadata": {},
   "outputs": [],
   "source": [
    "# We need to add balsam and the modules it depends on to the Python search paths. \n",
    "import sys\n",
    "from pprint import pprint\n",
    "import matplotlib.pyplot"
   ]
  },
  {
   "cell_type": "code",
   "execution_count": 3,
   "metadata": {},
   "outputs": [
    {
     "name": "stdout",
     "output_type": "stream",
     "text": [
      "(\"Python search path includes: ['/soft/datascience/Balsam/0.3.5.1/', \"\n",
      " \"'/soft/datascience/Balsam/0.3.5.1/env/lib/python3.6/site-packages/', \"\n",
      " \"'/opt/anaconda3/lib/python36.zip', '/opt/anaconda3/lib/python3.6', \"\n",
      " \"'/opt/anaconda3/lib/python3.6/lib-dynload', '', \"\n",
      " \"'/opt/anaconda3/lib/python3.6/site-packages', \"\n",
      " \"'/opt/anaconda3/lib/python3.6/site-packages/Mako-1.0.7-py3.6.egg', \"\n",
      " \"'/opt/anaconda3/lib/python3.6/site-packages/IPython/extensions', \"\n",
      " \"'/gpfs/mira-home/rvescovi/.ipython']\")\n"
     ]
    }
   ],
   "source": [
    "sys.path.insert(0,'/soft/datascience/Balsam/0.3.5.1/env/lib/python3.6/site-packages/')\n",
    "sys.path.insert(0,'/soft/datascience/Balsam/0.3.5.1/')\n",
    "\n",
    "pprint(f'Python search path includes: {sys.path}')\n",
    "\n",
    "# We also need postgresql to be in the path\n",
    "import os\n",
    "os.environ['PATH'] ='/soft/datascience/Balsam/0.3.5.1/env/bin/:' + os.environ['PATH']\n",
    "os.environ['PATH'] +=':/soft/datascience/PostgreSQL/9.6.12/bin/'\n",
    "\n",
    "try:\n",
    "    import balsam\n",
    "except:\n",
    "    print('Cannot find balsam, make sure balsam is installed or it is available in Python search paths')    "
   ]
  },
  {
   "cell_type": "code",
   "execution_count": 4,
   "metadata": {},
   "outputs": [
    {
     "name": "stdout",
     "output_type": "stream",
     "text": [
      "/lus/theta-fs0/projects/connectomics_aesp/ravescovi/balsam_db/\n"
     ]
    }
   ],
   "source": [
    "# We also need to activate Balsam database by setting the BALSAM_DB_PATH environment variable. \n",
    "# This is equivalent to `source balsamactivate jupyter_test` \n",
    "os.environ[\"BALSAM_DB_PATH\"]='/lus/theta-fs0/projects/connectomics_aesp/ravescovi/balsam_db/'\n",
    "print(os.environ[\"BALSAM_DB_PATH\"])"
   ]
  },
  {
   "cell_type": "code",
   "execution_count": 25,
   "metadata": {},
   "outputs": [
    {
     "name": "stdout",
     "output_type": "stream",
     "text": [
      "Updated existing app\n",
      "Updated existing app\n",
      "Updated existing app\n",
      "Updated existing app\n",
      "Updated existing app\n",
      "Updated existing app\n",
      "Updated existing app\n",
      "Updated existing app\n",
      "Updated existing app\n",
      "Updated existing app\n",
      "Updated existing app\n",
      "Updated existing app\n",
      "Updated existing app\n"
     ]
    }
   ],
   "source": [
    "##Building balsam app/job database based on the HappyNeurons applications.\n",
    "from balsam_helper import *\n",
    "import hpn_balsam_apps"
   ]
  },
  {
   "cell_type": "code",
   "execution_count": 26,
   "metadata": {},
   "outputs": [],
   "source": [
    "from glob import glob\n",
    "import os\n",
    "import numpy as np"
   ]
  },
  {
   "cell_type": "code",
   "execution_count": 27,
   "metadata": {},
   "outputs": [],
   "source": [
    "def check_folders (folder_list):\n",
    "    for kfolder in folder_list:\n",
    "        print(os.path.isdir(kfolder),kfolder)\n",
    "\n",
    "def create_targets (target_path, folder_list,keyword='target'):\n",
    "    list_size = len(folder_list)\n",
    "    if (list_size==0):\n",
    "        print ('No folders in folder_list')\n",
    "        return \n",
    "    else:\n",
    "        targets = []\n",
    "        for k in np.arange(0,list_size):\n",
    "            ktarget = os.path.join(target_path,keyword+'_'+str(k))\n",
    "            targets.append(ktarget)\n",
    "            os.makedirs(ktarget,exist_ok=True)\n",
    "        return targets\n",
    "    \n",
    "        \n",
    "def create_montage_list(folder_list, target_list, MIN=1000, MAX=2000,create_jobs=False, num_nodes=128, workflow=''):\n",
    "    list_size =  (len(folder_list))\n",
    "    target_size = (len(target_list))\n",
    "    \n",
    "    ##TODO Check sizes and existance..\n",
    "#     if (list_size != target_size & target_size != 0):\n",
    "#         print ('lists and targets must have the same size')\n",
    "    \n",
    "    for k in np.arange(0,list_size):\n",
    "        print(k)\n",
    "        RAW_INPUT=folder_list[k]\n",
    "        PROCESS_FOLDER=os.path.join(RAW_INPUT,'montage_dir')\n",
    "        TARGET_FOLDER =target_list[k]\n",
    "        \n",
    "        jobs = []\n",
    "        if(create_jobs):\n",
    "            job = hpn_balsam_apps.trakem_montage_job(workflow, RAW_INPUT, PROCESS_FOLDER,target=TARGET_FOLDER, min=MIN, max=MAX, num_nodes=num_nodes)\n",
    "            jobs.append(job)\n",
    "        else:\n",
    "            print('Debug mode.......')\n",
    "            print(RAW_INPUT, PROCESS_FOLDER, TARGET_FOLDER, MIN, MAX, workflow, num_nodes)\n",
    "    return jobs"
   ]
  },
  {
   "cell_type": "code",
   "execution_count": 43,
   "metadata": {},
   "outputs": [],
   "source": [
    "workflow = 'shuichi_full_montage_v1'"
   ]
  },
  {
   "cell_type": "code",
   "execution_count": 36,
   "metadata": {},
   "outputs": [
    {
     "name": "stdout",
     "output_type": "stream",
     "text": [
      "Updated existing app\n",
      "Updated existing app\n",
      "Updated existing app\n",
      "Updated existing app\n",
      "Updated existing app\n",
      "Updated existing app\n",
      "Updated existing app\n",
      "Updated existing app\n",
      "Updated existing app\n",
      "Updated existing app\n",
      "Updated existing app\n",
      "Updated existing app\n",
      "Updated existing app\n",
      "True /lus/theta-fs0/projects/connectomics_aesp/shuichi/2019_04_25_str_apex_long1/2019_04_25_str_apex_long1_data/2019_04_25_mousestr_long1_data/session_567000525/SectionSet4\n",
      "True /lus/theta-fs0/projects/connectomics_aesp/shuichi/2019_04_26_str_apex_long2/2019_04_26_str_apex_long2_data/session_1333526470/SectionSet3\n",
      "True /lus/theta-fs0/projects/connectomics_aesp/shuichi/2019_04_27_str_apex_long3/2019_04_28_str_apex_long4_data/session_206593860/SectionSet2\n",
      "True /lus/theta-fs0/projects/connectomics_aesp/shuichi/2019_05_17_str_apex_long5/2019_05_17_wafer5_apexstr_data/session_2045440704/SectionSet2\n",
      "True /lus/theta-fs0/projects/connectomics_aesp/shuichi/2019_05_19_str_apex_long6/2019_05_19_wafer6_data/session_2082297023/SectionSet2\n",
      "True /lus/theta-fs0/projects/connectomics_aesp/shuichi/2019_07_11_str_apex_long7/2019_07_11_wafer7/2019_07_wafer7str_data/session_40426180/SectionSet2\n",
      "6\n",
      "True /lus/theta-fs0/projects/connectomics_aesp/data/shuichi_apex_raf/raw_trakem_2/target_0\n",
      "True /lus/theta-fs0/projects/connectomics_aesp/data/shuichi_apex_raf/raw_trakem_2/target_1\n",
      "True /lus/theta-fs0/projects/connectomics_aesp/data/shuichi_apex_raf/raw_trakem_2/target_2\n",
      "True /lus/theta-fs0/projects/connectomics_aesp/data/shuichi_apex_raf/raw_trakem_2/target_3\n",
      "True /lus/theta-fs0/projects/connectomics_aesp/data/shuichi_apex_raf/raw_trakem_2/target_4\n",
      "True /lus/theta-fs0/projects/connectomics_aesp/data/shuichi_apex_raf/raw_trakem_2/target_5\n",
      "6\n",
      "0\n",
      "Input: /lus/theta-fs0/projects/connectomics_aesp/shuichi/2019_04_25_str_apex_long1/2019_04_25_str_apex_long1_data/2019_04_25_mousestr_long1_data/session_567000525/SectionSet4\n",
      "Output: /lus/theta-fs0/projects/connectomics_aesp/shuichi/2019_04_25_str_apex_long1/2019_04_25_str_apex_long1_data/2019_04_25_mousestr_long1_data/session_567000525/SectionSet4/montage_dir/align_raw.txt\n",
      "(12288, 12288)\n",
      "12288 12288 0 254 uint8\n",
      "8bit\n",
      " /lus/theta-fs0/projects/connectomics_aesp/shuichi/2019_04_25_str_apex_long1/2019_04_25_str_apex_long1_data/2019_04_25_mousestr_long1_data/session_567000525/SectionSet4/montage_dir/align_raw.txt  /lus/theta-fs0/projects/connectomics_aesp/data/shuichi_apex_raf/raw_trakem_2/target_0  --min 2000  --max 4000  --fiji /lus/theta-fs0/projects/connectomics_aesp/software/Fiji.app/ImageJ-linux64 \n",
      "Trakem2 Montage Job added\n",
      "1\n",
      "Input: /lus/theta-fs0/projects/connectomics_aesp/shuichi/2019_04_26_str_apex_long2/2019_04_26_str_apex_long2_data/session_1333526470/SectionSet3\n",
      "Output: /lus/theta-fs0/projects/connectomics_aesp/shuichi/2019_04_26_str_apex_long2/2019_04_26_str_apex_long2_data/session_1333526470/SectionSet3/montage_dir/align_raw.txt\n",
      "(12288, 12288)\n",
      "12288 12288 0 254 uint8\n",
      "8bit\n",
      " /lus/theta-fs0/projects/connectomics_aesp/shuichi/2019_04_26_str_apex_long2/2019_04_26_str_apex_long2_data/session_1333526470/SectionSet3/montage_dir/align_raw.txt  /lus/theta-fs0/projects/connectomics_aesp/data/shuichi_apex_raf/raw_trakem_2/target_1  --min 2000  --max 4000  --fiji /lus/theta-fs0/projects/connectomics_aesp/software/Fiji.app/ImageJ-linux64 \n",
      "Trakem2 Montage Job added\n",
      "2\n",
      "Input: /lus/theta-fs0/projects/connectomics_aesp/shuichi/2019_04_27_str_apex_long3/2019_04_28_str_apex_long4_data/session_206593860/SectionSet2\n",
      "Output: /lus/theta-fs0/projects/connectomics_aesp/shuichi/2019_04_27_str_apex_long3/2019_04_28_str_apex_long4_data/session_206593860/SectionSet2/montage_dir/align_raw.txt\n",
      "(12288, 12288)\n",
      "12288 12288 0 254 uint8\n",
      "8bit\n",
      " /lus/theta-fs0/projects/connectomics_aesp/shuichi/2019_04_27_str_apex_long3/2019_04_28_str_apex_long4_data/session_206593860/SectionSet2/montage_dir/align_raw.txt  /lus/theta-fs0/projects/connectomics_aesp/data/shuichi_apex_raf/raw_trakem_2/target_2  --min 2000  --max 4000  --fiji /lus/theta-fs0/projects/connectomics_aesp/software/Fiji.app/ImageJ-linux64 \n",
      "Trakem2 Montage Job added\n",
      "3\n",
      "Input: /lus/theta-fs0/projects/connectomics_aesp/shuichi/2019_05_17_str_apex_long5/2019_05_17_wafer5_apexstr_data/session_2045440704/SectionSet2\n",
      "Output: /lus/theta-fs0/projects/connectomics_aesp/shuichi/2019_05_17_str_apex_long5/2019_05_17_wafer5_apexstr_data/session_2045440704/SectionSet2/montage_dir/align_raw.txt\n",
      "(12288, 12288)\n",
      "12288 12288 0 254 uint8\n",
      "8bit\n",
      " /lus/theta-fs0/projects/connectomics_aesp/shuichi/2019_05_17_str_apex_long5/2019_05_17_wafer5_apexstr_data/session_2045440704/SectionSet2/montage_dir/align_raw.txt  /lus/theta-fs0/projects/connectomics_aesp/data/shuichi_apex_raf/raw_trakem_2/target_3  --min 2000  --max 4000  --fiji /lus/theta-fs0/projects/connectomics_aesp/software/Fiji.app/ImageJ-linux64 \n",
      "Trakem2 Montage Job added\n",
      "4\n",
      "Input: /lus/theta-fs0/projects/connectomics_aesp/shuichi/2019_05_19_str_apex_long6/2019_05_19_wafer6_data/session_2082297023/SectionSet2\n",
      "Output: /lus/theta-fs0/projects/connectomics_aesp/shuichi/2019_05_19_str_apex_long6/2019_05_19_wafer6_data/session_2082297023/SectionSet2/montage_dir/align_raw.txt\n",
      "(12288, 12288)\n",
      "12288 12288 0 254 uint8\n",
      "8bit\n",
      " /lus/theta-fs0/projects/connectomics_aesp/shuichi/2019_05_19_str_apex_long6/2019_05_19_wafer6_data/session_2082297023/SectionSet2/montage_dir/align_raw.txt  /lus/theta-fs0/projects/connectomics_aesp/data/shuichi_apex_raf/raw_trakem_2/target_4  --min 2000  --max 4000  --fiji /lus/theta-fs0/projects/connectomics_aesp/software/Fiji.app/ImageJ-linux64 \n",
      "Trakem2 Montage Job added\n",
      "5\n",
      "Input: /lus/theta-fs0/projects/connectomics_aesp/shuichi/2019_07_11_str_apex_long7/2019_07_11_wafer7/2019_07_wafer7str_data/session_40426180/SectionSet2\n",
      "Output: /lus/theta-fs0/projects/connectomics_aesp/shuichi/2019_07_11_str_apex_long7/2019_07_11_wafer7/2019_07_wafer7str_data/session_40426180/SectionSet2/montage_dir/align_raw.txt\n",
      "(12288, 12288)\n",
      "12288 12288 1 254 uint8\n",
      "8bit\n",
      " /lus/theta-fs0/projects/connectomics_aesp/shuichi/2019_07_11_str_apex_long7/2019_07_11_wafer7/2019_07_wafer7str_data/session_40426180/SectionSet2/montage_dir/align_raw.txt  /lus/theta-fs0/projects/connectomics_aesp/data/shuichi_apex_raf/raw_trakem_2/target_5  --min 2000  --max 4000  --fiji /lus/theta-fs0/projects/connectomics_aesp/software/Fiji.app/ImageJ-linux64 \n",
      "Trakem2 Montage Job added\n",
      "[UUID('59da6e89-2458-4526-afcd-e123c10596ea')]\n"
     ]
    }
   ],
   "source": [
    "##create your montage folder lists. Keeping one list per sample will make it easier to merge it for the aligment step.\n",
    "\n",
    "apex_folders = []\n",
    "apex_folders.append('/lus/theta-fs0/projects/connectomics_aesp/shuichi/2019_04_25_str_apex_long1/2019_04_25_str_apex_long1_data/2019_04_25_mousestr_long1_data/session_567000525/SectionSet4')\n",
    "apex_folders.append('/lus/theta-fs0/projects/connectomics_aesp/shuichi/2019_04_26_str_apex_long2/2019_04_26_str_apex_long2_data/session_1333526470/SectionSet3')\n",
    "apex_folders.append('/lus/theta-fs0/projects/connectomics_aesp/shuichi/2019_04_27_str_apex_long3/2019_04_28_str_apex_long4_data/session_206593860/SectionSet2')\n",
    "apex_folders.append('/lus/theta-fs0/projects/connectomics_aesp/shuichi/2019_05_17_str_apex_long5/2019_05_17_wafer5_apexstr_data/session_2045440704/SectionSet2')\n",
    "apex_folders.append('/lus/theta-fs0/projects/connectomics_aesp/shuichi/2019_05_19_str_apex_long6/2019_05_19_wafer6_data/session_2082297023/SectionSet2')\n",
    "apex_folders.append('/lus/theta-fs0/projects/connectomics_aesp/shuichi/2019_07_11_str_apex_long7/2019_07_11_wafer7/2019_07_wafer7str_data/session_40426180/SectionSet2')\n",
    "\n",
    "target_path_apex = '/lus/theta-fs0/projects/connectomics_aesp/data/shuichi_apex_raf/raw_trakem_2/'\n",
    "\n",
    "\n",
    "\n",
    "check_folders(apex_folders)\n",
    "print(len(apex_folders))\n",
    "\n",
    "apex_targets = create_targets(target_path_apex, apex_folders)\n",
    "check_folders(apex_targets)\n",
    "print(len(apex_targets))\n",
    "\n",
    "jobs = create_montage_list(apex_folders, apex_targets, MIN=2000, MAX=4000, workflow=workflow,create_jobs=True, num_nodes=64)\n",
    "print (jobs)"
   ]
  },
  {
   "cell_type": "code",
   "execution_count": 37,
   "metadata": {},
   "outputs": [
    {
     "name": "stdout",
     "output_type": "stream",
     "text": [
      "True /lus/theta-fs0/projects/connectomics_aesp/shuichi/2019_08_17_octsagseries_wafer1/2019_08_17_octsagseries_wafer1_data/session_60831710/SectionSet3\n",
      "True /lus/theta-fs0/projects/connectomics_aesp/shuichi/2019_08_27_octsagseries_wafer2/2019_08_27_octsagseries_no2_data/session_84245782/SectionSet2\n",
      "True /lus/theta-fs0/projects/connectomics_aesp/shuichi/2019_08_29_octsagseries_wafer3/2019_08_29_octsagseries_wafer3_data/session_911407996/SectionSet2\n",
      "True /lus/theta-fs0/projects/connectomics_aesp/shuichi/2019_08_29_octsagseries_wafer4/2019_08_29_octsagseries_wafer4_data/session_204277640/SectionSet2\n",
      "True /lus/theta-fs0/projects/connectomics_aesp/shuichi/2019_08_30_octsagseries_wafer5/2019_08_30_octsagseries_wafer5_data/session_1709006171/SectionSet2\n",
      "True /lus/theta-fs0/projects/connectomics_aesp/shuichi/2019_08_30_octsagseries_wafer6/2019_08_30_octsagseries_wafer6_data/session_1342842437/SectionSet5\n",
      "6\n",
      "True /lus/theta-fs0/projects/connectomics_aesp/data/shuichi_octosag_raf/raw_trakem_2/target_0\n",
      "True /lus/theta-fs0/projects/connectomics_aesp/data/shuichi_octosag_raf/raw_trakem_2/target_1\n",
      "True /lus/theta-fs0/projects/connectomics_aesp/data/shuichi_octosag_raf/raw_trakem_2/target_2\n",
      "True /lus/theta-fs0/projects/connectomics_aesp/data/shuichi_octosag_raf/raw_trakem_2/target_3\n",
      "True /lus/theta-fs0/projects/connectomics_aesp/data/shuichi_octosag_raf/raw_trakem_2/target_4\n",
      "True /lus/theta-fs0/projects/connectomics_aesp/data/shuichi_octosag_raf/raw_trakem_2/target_5\n",
      "6\n",
      "0\n",
      "Input: /lus/theta-fs0/projects/connectomics_aesp/shuichi/2019_08_17_octsagseries_wafer1/2019_08_17_octsagseries_wafer1_data/session_60831710/SectionSet3\n",
      "Output: /lus/theta-fs0/projects/connectomics_aesp/shuichi/2019_08_17_octsagseries_wafer1/2019_08_17_octsagseries_wafer1_data/session_60831710/SectionSet3/montage_dir/align_raw.txt\n",
      "(12288, 12288)\n",
      "12288 12288 1 254 uint8\n",
      "8bit\n",
      " /lus/theta-fs0/projects/connectomics_aesp/shuichi/2019_08_17_octsagseries_wafer1/2019_08_17_octsagseries_wafer1_data/session_60831710/SectionSet3/montage_dir/align_raw.txt  /lus/theta-fs0/projects/connectomics_aesp/data/shuichi_octosag_raf/raw_trakem_2/target_0  --min 2000  --max 4000  --fiji /lus/theta-fs0/projects/connectomics_aesp/software/Fiji.app/ImageJ-linux64 \n",
      "Trakem2 Montage Job added\n",
      "1\n",
      "Input: /lus/theta-fs0/projects/connectomics_aesp/shuichi/2019_08_27_octsagseries_wafer2/2019_08_27_octsagseries_no2_data/session_84245782/SectionSet2\n",
      "Output: /lus/theta-fs0/projects/connectomics_aesp/shuichi/2019_08_27_octsagseries_wafer2/2019_08_27_octsagseries_no2_data/session_84245782/SectionSet2/montage_dir/align_raw.txt\n",
      "(12288, 12288)\n",
      "12288 12288 0 254 uint8\n",
      "8bit\n",
      " /lus/theta-fs0/projects/connectomics_aesp/shuichi/2019_08_27_octsagseries_wafer2/2019_08_27_octsagseries_no2_data/session_84245782/SectionSet2/montage_dir/align_raw.txt  /lus/theta-fs0/projects/connectomics_aesp/data/shuichi_octosag_raf/raw_trakem_2/target_1  --min 2000  --max 4000  --fiji /lus/theta-fs0/projects/connectomics_aesp/software/Fiji.app/ImageJ-linux64 \n",
      "Trakem2 Montage Job added\n",
      "2\n",
      "Input: /lus/theta-fs0/projects/connectomics_aesp/shuichi/2019_08_29_octsagseries_wafer3/2019_08_29_octsagseries_wafer3_data/session_911407996/SectionSet2\n",
      "Output: /lus/theta-fs0/projects/connectomics_aesp/shuichi/2019_08_29_octsagseries_wafer3/2019_08_29_octsagseries_wafer3_data/session_911407996/SectionSet2/montage_dir/align_raw.txt\n",
      "(12288, 12288)\n",
      "12288 12288 0 254 uint8\n",
      "8bit\n",
      " /lus/theta-fs0/projects/connectomics_aesp/shuichi/2019_08_29_octsagseries_wafer3/2019_08_29_octsagseries_wafer3_data/session_911407996/SectionSet2/montage_dir/align_raw.txt  /lus/theta-fs0/projects/connectomics_aesp/data/shuichi_octosag_raf/raw_trakem_2/target_2  --min 2000  --max 4000  --fiji /lus/theta-fs0/projects/connectomics_aesp/software/Fiji.app/ImageJ-linux64 \n",
      "Trakem2 Montage Job added\n",
      "3\n",
      "Input: /lus/theta-fs0/projects/connectomics_aesp/shuichi/2019_08_29_octsagseries_wafer4/2019_08_29_octsagseries_wafer4_data/session_204277640/SectionSet2\n",
      "Output: /lus/theta-fs0/projects/connectomics_aesp/shuichi/2019_08_29_octsagseries_wafer4/2019_08_29_octsagseries_wafer4_data/session_204277640/SectionSet2/montage_dir/align_raw.txt\n",
      "(12288, 12288)\n",
      "12288 12288 0 254 uint8\n",
      "8bit\n",
      " /lus/theta-fs0/projects/connectomics_aesp/shuichi/2019_08_29_octsagseries_wafer4/2019_08_29_octsagseries_wafer4_data/session_204277640/SectionSet2/montage_dir/align_raw.txt  /lus/theta-fs0/projects/connectomics_aesp/data/shuichi_octosag_raf/raw_trakem_2/target_3  --min 2000  --max 4000  --fiji /lus/theta-fs0/projects/connectomics_aesp/software/Fiji.app/ImageJ-linux64 \n",
      "Trakem2 Montage Job added\n",
      "4\n",
      "Input: /lus/theta-fs0/projects/connectomics_aesp/shuichi/2019_08_30_octsagseries_wafer5/2019_08_30_octsagseries_wafer5_data/session_1709006171/SectionSet2\n",
      "Output: /lus/theta-fs0/projects/connectomics_aesp/shuichi/2019_08_30_octsagseries_wafer5/2019_08_30_octsagseries_wafer5_data/session_1709006171/SectionSet2/montage_dir/align_raw.txt\n",
      "(12288, 12288)\n",
      "12288 12288 0 254 uint8\n",
      "8bit\n",
      " /lus/theta-fs0/projects/connectomics_aesp/shuichi/2019_08_30_octsagseries_wafer5/2019_08_30_octsagseries_wafer5_data/session_1709006171/SectionSet2/montage_dir/align_raw.txt  /lus/theta-fs0/projects/connectomics_aesp/data/shuichi_octosag_raf/raw_trakem_2/target_4  --min 2000  --max 4000  --fiji /lus/theta-fs0/projects/connectomics_aesp/software/Fiji.app/ImageJ-linux64 \n",
      "Trakem2 Montage Job added\n",
      "5\n",
      "Input: /lus/theta-fs0/projects/connectomics_aesp/shuichi/2019_08_30_octsagseries_wafer6/2019_08_30_octsagseries_wafer6_data/session_1342842437/SectionSet5\n",
      "Output: /lus/theta-fs0/projects/connectomics_aesp/shuichi/2019_08_30_octsagseries_wafer6/2019_08_30_octsagseries_wafer6_data/session_1342842437/SectionSet5/montage_dir/align_raw.txt\n",
      "(12288, 12288)\n",
      "12288 12288 0 254 uint8\n",
      "8bit\n",
      " /lus/theta-fs0/projects/connectomics_aesp/shuichi/2019_08_30_octsagseries_wafer6/2019_08_30_octsagseries_wafer6_data/session_1342842437/SectionSet5/montage_dir/align_raw.txt  /lus/theta-fs0/projects/connectomics_aesp/data/shuichi_octosag_raf/raw_trakem_2/target_5  --min 2000  --max 4000  --fiji /lus/theta-fs0/projects/connectomics_aesp/software/Fiji.app/ImageJ-linux64 \n",
      "Trakem2 Montage Job added\n",
      "[UUID('83db9c49-6ca4-4313-bc29-6c2c8a4042ff')]\n"
     ]
    }
   ],
   "source": [
    "octo_folders1 = []\n",
    "octo_folders1.append('/lus/theta-fs0/projects/connectomics_aesp/shuichi/2019_08_17_octsagseries_wafer1/2019_08_17_octsagseries_wafer1_data/session_60831710/SectionSet3')\n",
    "octo_folders1.append('/lus/theta-fs0/projects/connectomics_aesp/shuichi/2019_08_27_octsagseries_wafer2/2019_08_27_octsagseries_no2_data/session_84245782/SectionSet2')\n",
    "octo_folders1.append('/lus/theta-fs0/projects/connectomics_aesp/shuichi/2019_08_29_octsagseries_wafer3/2019_08_29_octsagseries_wafer3_data/session_911407996/SectionSet2')\n",
    "octo_folders1.append('/lus/theta-fs0/projects/connectomics_aesp/shuichi/2019_08_29_octsagseries_wafer4/2019_08_29_octsagseries_wafer4_data/session_204277640/SectionSet2')\n",
    "octo_folders1.append('/lus/theta-fs0/projects/connectomics_aesp/shuichi/2019_08_30_octsagseries_wafer5/2019_08_30_octsagseries_wafer5_data/session_1709006171/SectionSet2')\n",
    "octo_folders1.append('/lus/theta-fs0/projects/connectomics_aesp/shuichi/2019_08_30_octsagseries_wafer6/2019_08_30_octsagseries_wafer6_data/session_1342842437/SectionSet5')\n",
    "\n",
    "target_octo1 = '/lus/theta-fs0/projects/connectomics_aesp/data/shuichi_octosag_raf/raw_trakem_2/'\n",
    "\n",
    "check_folders(octo_folders1)\n",
    "print(len(octo_folders1))\n",
    "\n",
    "octo1_targets = create_targets(target_octo1, octo_folders1)\n",
    "check_folders(octo1_targets)\n",
    "print(len(octo1_targets))\n",
    "\n",
    "jobs = create_montage_list(octo_folders1, octo1_targets, MIN=2000, MAX=4000, workflow=workflow,create_jobs=True, num_nodes=64)\n",
    "print (jobs)"
   ]
  },
  {
   "cell_type": "code",
   "execution_count": 38,
   "metadata": {},
   "outputs": [
    {
     "name": "stdout",
     "output_type": "stream",
     "text": [
      "True /lus/theta-fs0/projects/connectomics_aesp/shuichi/2019_06_12_octvert_vshort/2019_waferoctvert_data/2019_waferoctvert_data/session_1269280956/SectionSet2\n",
      "True /lus/theta-fs0/projects/connectomics_aesp/shuichi/2019_07_28_wafer_octvert_no2_high/2019_07_28_wafer_octvert_no2_high_data/session_1340428348/SectionSet2\n",
      "True /lus/theta-fs0/projects/connectomics_aesp/shuichi/2019_08_11_wafer3_octvert3/2019_08_11_octver3_data/session_1125050526/SectionSet3\n",
      "3\n",
      "True /lus/theta-fs0/projects/connectomics_aesp/data/shuichi_octover_raf/raw_trakem_2/target_0\n",
      "True /lus/theta-fs0/projects/connectomics_aesp/data/shuichi_octover_raf/raw_trakem_2/target_1\n",
      "True /lus/theta-fs0/projects/connectomics_aesp/data/shuichi_octover_raf/raw_trakem_2/target_2\n",
      "3\n",
      "0\n",
      "Input: /lus/theta-fs0/projects/connectomics_aesp/shuichi/2019_06_12_octvert_vshort/2019_waferoctvert_data/2019_waferoctvert_data/session_1269280956/SectionSet2\n",
      "Output: /lus/theta-fs0/projects/connectomics_aesp/shuichi/2019_06_12_octvert_vshort/2019_waferoctvert_data/2019_waferoctvert_data/session_1269280956/SectionSet2/montage_dir/align_raw.txt\n",
      "(12288, 12288)\n",
      "12288 12288 0 254 uint8\n",
      "8bit\n",
      " /lus/theta-fs0/projects/connectomics_aesp/shuichi/2019_06_12_octvert_vshort/2019_waferoctvert_data/2019_waferoctvert_data/session_1269280956/SectionSet2/montage_dir/align_raw.txt  /lus/theta-fs0/projects/connectomics_aesp/data/shuichi_octover_raf/raw_trakem_2/target_0  --min 2000  --max 4000  --fiji /lus/theta-fs0/projects/connectomics_aesp/software/Fiji.app/ImageJ-linux64 \n",
      "Trakem2 Montage Job added\n",
      "1\n",
      "Input: /lus/theta-fs0/projects/connectomics_aesp/shuichi/2019_07_28_wafer_octvert_no2_high/2019_07_28_wafer_octvert_no2_high_data/session_1340428348/SectionSet2\n",
      "Output: /lus/theta-fs0/projects/connectomics_aesp/shuichi/2019_07_28_wafer_octvert_no2_high/2019_07_28_wafer_octvert_no2_high_data/session_1340428348/SectionSet2/montage_dir/align_raw.txt\n",
      "(12288, 12288)\n",
      "12288 12288 0 254 uint8\n",
      "8bit\n",
      " /lus/theta-fs0/projects/connectomics_aesp/shuichi/2019_07_28_wafer_octvert_no2_high/2019_07_28_wafer_octvert_no2_high_data/session_1340428348/SectionSet2/montage_dir/align_raw.txt  /lus/theta-fs0/projects/connectomics_aesp/data/shuichi_octover_raf/raw_trakem_2/target_1  --min 2000  --max 4000  --fiji /lus/theta-fs0/projects/connectomics_aesp/software/Fiji.app/ImageJ-linux64 \n",
      "Trakem2 Montage Job added\n",
      "2\n",
      "Input: /lus/theta-fs0/projects/connectomics_aesp/shuichi/2019_08_11_wafer3_octvert3/2019_08_11_octver3_data/session_1125050526/SectionSet3\n",
      "Output: /lus/theta-fs0/projects/connectomics_aesp/shuichi/2019_08_11_wafer3_octvert3/2019_08_11_octver3_data/session_1125050526/SectionSet3/montage_dir/align_raw.txt\n",
      "(12288, 12288)\n",
      "12288 12288 0 254 uint8\n",
      "8bit\n",
      " /lus/theta-fs0/projects/connectomics_aesp/shuichi/2019_08_11_wafer3_octvert3/2019_08_11_octver3_data/session_1125050526/SectionSet3/montage_dir/align_raw.txt  /lus/theta-fs0/projects/connectomics_aesp/data/shuichi_octover_raf/raw_trakem_2/target_2  --min 2000  --max 4000  --fiji /lus/theta-fs0/projects/connectomics_aesp/software/Fiji.app/ImageJ-linux64 \n",
      "Trakem2 Montage Job added\n",
      "[UUID('fd524d82-79f9-40d4-aaeb-fd42249376a5')]\n"
     ]
    }
   ],
   "source": [
    "octo_folders2 = []\n",
    "octo_folders2.append('/lus/theta-fs0/projects/connectomics_aesp/shuichi/2019_06_12_octvert_vshort/2019_waferoctvert_data/2019_waferoctvert_data/session_1269280956/SectionSet2')\n",
    "octo_folders2.append('/lus/theta-fs0/projects/connectomics_aesp/shuichi/2019_07_28_wafer_octvert_no2_high/2019_07_28_wafer_octvert_no2_high_data/session_1340428348/SectionSet2')\n",
    "octo_folders2.append('/lus/theta-fs0/projects/connectomics_aesp/shuichi/2019_08_11_wafer3_octvert3/2019_08_11_octver3_data/session_1125050526/SectionSet3')\n",
    "\n",
    "target_octo2 = '/lus/theta-fs0/projects/connectomics_aesp/data/shuichi_octover_raf/raw_trakem_2/'\n",
    "\n",
    "\n",
    "\n",
    "check_folders(octo_folders2)\n",
    "print(len(octo_folders2))\n",
    "\n",
    "octo2_targets = create_targets(target_octo2, octo_folders2)\n",
    "check_folders(octo2_targets)\n",
    "print(len(octo2_targets))\n",
    "\n",
    "jobs = create_montage_list(octo_folders2, octo2_targets, MIN=2000, MAX=4000, workflow=workflow,create_jobs=True, num_nodes=64)\n",
    "print (jobs)\n"
   ]
  },
  {
   "cell_type": "code",
   "execution_count": null,
   "metadata": {},
   "outputs": [],
   "source": []
  },
  {
   "cell_type": "code",
   "execution_count": null,
   "metadata": {},
   "outputs": [],
   "source": []
  },
  {
   "cell_type": "code",
   "execution_count": 39,
   "metadata": {
    "scrolled": true
   },
   "outputs": [
    {
     "name": "stdout",
     "output_type": "stream",
     "text": [
      "Submit OK: Qlaunch {   'command': '/lus/theta-fs0/projects/connectomics_aesp/ravescovi/balsam_db/qsubmit/qlaunch7.sh',\n",
      "    'from_balsam': True,\n",
      "    'id': 7,\n",
      "    'job_mode': 'mpi',\n",
      "    'nodes': 256,\n",
      "    'prescheduled_only': False,\n",
      "    'project': 'connectomics_aesp',\n",
      "    'queue': 'default',\n",
      "    'scheduler_id': 383390,\n",
      "    'state': 'submitted',\n",
      "    'wall_minutes': 360,\n",
      "    'wf_filter': 'shuichi_full_montage_v1'}\n"
     ]
    }
   ],
   "source": [
    "\n",
    "#workflow = ''\n",
    "\n",
    "submit(project='connectomics_aesp',\n",
    "       queue='default',\n",
    "       nodes=256,\n",
    "       job_mode='mpi',\n",
    "       wall_minutes=360,\n",
    "       wf_filter=workflow)\n"
   ]
  },
  {
   "cell_type": "markdown",
   "metadata": {},
   "source": [
    "# BALSAM WORKFLOW ANALYZER"
   ]
  },
  {
   "cell_type": "code",
   "execution_count": 46,
   "metadata": {
    "scrolled": true
   },
   "outputs": [
    {
     "data": {
      "text/plain": [
       "<matplotlib.legend.Legend at 0x7f14f92b6080>"
      ]
     },
     "execution_count": 46,
     "metadata": {},
     "output_type": "execute_result"
    },
    {
     "data": {
      "image/png": "[encoded data removed]",
      "text/plain": [
       "<Figure size 432x288 with 1 Axes>"
      ]
     },
     "metadata": {
      "needs_background": "light"
     },
     "output_type": "display_data"
    }
   ],
   "source": [
    "# Balsam metadata\n",
    "from balsam.core.models import utilization_report, throughput_report, process_job_times, BalsamJob\n",
    "from matplotlib import pyplot as plt\n",
    "\n",
    "#workflow = \"trakem2_test_v3\"\n",
    "##useful stuff\n",
    "query = BalsamJob.objects.filter(workflow=workflow)\n",
    "time_dat = process_job_times(query) #filters into a single workflow\n",
    "[j.runtime_seconds for j in query] # full time per balsam Job\n",
    "\n",
    "times_created, num_created = sorted(time_dat['CREATED']), range(1, len(time_dat[\"CREATED\"])+1)\n",
    "\n",
    "t0 = min(times_created)\n",
    "\n",
    "def mins(t):\n",
    "    return (t-t0).total_seconds() / 60\n",
    "\n",
    "plt.step([mins(t) for t in times_created] ,num_created, 'o', where='post',label='creation')\n",
    "times, num_thru = throughput_report(time_dat)\n",
    "plt.step([mins(t) for t in times], num_thru,  'o', where='post', label='done')\n",
    "\n",
    "times_u, num_util = utilization_report(time_dat)\n",
    "plt.step([mins(t) for t in times_u], num_util, 'o', where='post', label='utilization')\n",
    "plt.legend()"
   ]
  },
  {
   "cell_type": "code",
   "execution_count": 48,
   "metadata": {},
   "outputs": [
    {
     "ename": "NameError",
     "evalue": "name 'hpn' is not defined",
     "output_type": "error",
     "traceback": [
      "\u001b[0;31m---------------------------------------------------------------------------\u001b[0m",
      "\u001b[0;31mNameError\u001b[0m                                 Traceback (most recent call last)",
      "\u001b[0;32m<ipython-input-48-cb035bc9e8f2>\u001b[0m in \u001b[0;36m<module>\u001b[0;34m\u001b[0m\n\u001b[0;32m----> 1\u001b[0;31m \u001b[0mhpn\u001b[0m\u001b[0;34m.\u001b[0m\u001b[0minit\u001b[0m\u001b[0;34m(\u001b[0m\u001b[0mconfig\u001b[0m\u001b[0;34m)\u001b[0m\u001b[0;34m\u001b[0m\u001b[0;34m\u001b[0m\u001b[0m\n\u001b[0m",
      "\u001b[0;31mNameError\u001b[0m: name 'hpn' is not defined"
     ]
    }
   ],
   "source": [
    "hpn.init(config)"
   ]
  },
  {
   "cell_type": "code",
   "execution_count": null,
   "metadata": {},
   "outputs": [],
   "source": []
  },
  {
   "cell_type": "code",
   "execution_count": null,
   "metadata": {},
   "outputs": [],
   "source": [
    "config = aligntk , fiji, "
   ]
  }
 ],
 "metadata": {
  "kernelspec": {
   "display_name": "Python 3",
   "language": "python",
   "name": "python3"
  },
  "language_info": {
   "codemirror_mode": {
    "name": "ipython",
    "version": 3
   },
   "file_extension": ".py",
   "mimetype": "text/x-python",
   "name": "python",
   "nbconvert_exporter": "python",
   "pygments_lexer": "ipython3",
   "version": "3.6.8"
  }
 },
 "nbformat": 4,
 "nbformat_minor": 2
}
