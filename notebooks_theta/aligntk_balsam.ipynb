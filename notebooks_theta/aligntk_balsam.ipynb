{
 "cells": [
  {
   "cell_type": "code",
   "execution_count": 1,
   "metadata": {},
   "outputs": [],
   "source": [
    "# The magic commands below allow reflecting the changes in an imported module without restarting the kernel.\n",
    "%load_ext autoreload\n",
    "%autoreload 2"
   ]
  },
  {
   "cell_type": "code",
   "execution_count": 2,
   "metadata": {
    "scrolled": false
   },
   "outputs": [
    {
     "name": "stdout",
     "output_type": "stream",
     "text": [
      "(\"Python search path includes: ['/soft/datascience/Balsam/0.3.5.1/', \"\n",
      " \"'/soft/datascience/Balsam/0.3.5.1/env/lib/python3.6/site-packages/', \"\n",
      " \"'/opt/anaconda3/lib/python36.zip', '/opt/anaconda3/lib/python3.6', \"\n",
      " \"'/opt/anaconda3/lib/python3.6/lib-dynload', '', \"\n",
      " \"'/home/rvescovi/.local/lib/python3.6/site-packages', \"\n",
      " \"'/opt/anaconda3/lib/python3.6/site-packages', \"\n",
      " \"'/opt/anaconda3/lib/python3.6/site-packages/Mako-1.0.7-py3.6.egg', \"\n",
      " \"'/opt/anaconda3/lib/python3.6/site-packages/IPython/extensions', \"\n",
      " \"'/gpfs/mira-home/rvescovi/.ipython']\")\n"
     ]
    },
    {
     "ename": "ModuleNotFoundError",
     "evalue": "No module named 'balsam_helper'",
     "output_type": "error",
     "traceback": [
      "\u001b[0;31m---------------------------------------------------------------------------\u001b[0m",
      "\u001b[0;31mModuleNotFoundError\u001b[0m                       Traceback (most recent call last)",
      "\u001b[0;32m<ipython-input-2-01dcc1647c4f>\u001b[0m in \u001b[0;36m<module>\u001b[0;34m\u001b[0m\n\u001b[1;32m     26\u001b[0m \u001b[0;34m\u001b[0m\u001b[0m\n\u001b[1;32m     27\u001b[0m \u001b[0;34m\u001b[0m\u001b[0m\n\u001b[0;32m---> 28\u001b[0;31m \u001b[0;32mfrom\u001b[0m \u001b[0mbalsam_helper\u001b[0m \u001b[0;32mimport\u001b[0m \u001b[0;34m*\u001b[0m\u001b[0;34m\u001b[0m\u001b[0;34m\u001b[0m\u001b[0m\n\u001b[0m\u001b[1;32m     29\u001b[0m \u001b[0;32mimport\u001b[0m \u001b[0mhpn_balsam_apps\u001b[0m\u001b[0;34m\u001b[0m\u001b[0;34m\u001b[0m\u001b[0m\n\u001b[1;32m     30\u001b[0m \u001b[0;34m\u001b[0m\u001b[0m\n",
      "\u001b[0;31mModuleNotFoundError\u001b[0m: No module named 'balsam_helper'"
     ]
    }
   ],
   "source": [
    "# We need to add balsam and the modules it depends on to the Python search paths. \n",
    "import sys\n",
    "sys.path.insert(0,'/soft/datascience/Balsam/0.3.5.1/env/lib/python3.6/site-packages/')\n",
    "sys.path.insert(0,'/soft/datascience/Balsam/0.3.5.1/')\n",
    "\n",
    "import matplotlib.pyplot\n",
    "#sys.path.insert(0,'/lus/theta-fs0/projects/connectomics_aesp/software/neuro_env_36/lib/python3.6/site-packages/')\n",
    "\n",
    "\n",
    "from pprint import pprint\n",
    "pprint(f'Python search path includes: {sys.path}')\n",
    "\n",
    "# We also need postgresql to be in the path\n",
    "import os\n",
    "os.environ['PATH'] ='/soft/datascience/Balsam/0.3.5.1/env/bin/:' + os.environ['PATH']\n",
    "os.environ['PATH'] +=':/soft/datascience/PostgreSQL/9.6.12/bin/'\n",
    "\n",
    "try:\n",
    "    import balsam\n",
    "except:\n",
    "    print('Cannot find balsam, make sure balsam is installed or it is available in Python search paths')    \n",
    "\n",
    "    # We also need to activate Balsam database by setting the BALSAM_DB_PATH environment variable. \n",
    "# This is equivalent to `source balsamactivate jupyter_test` \n",
    "os.environ[\"BALSAM_DB_PATH\"]='/lus/theta-fs0/projects/connectomics_aesp/hanyuli/balsam_db/'\n",
    "\n",
    "\n",
    "from balsam_helper import *\n",
    "import hpn_balsam_apps\n",
    "\n",
    "\n",
    "print(os.environ[\"BALSAM_DB_PATH\"])"
   ]
  },
  {
   "cell_type": "markdown",
   "metadata": {},
   "source": [
    "## Aligntk Apps"
   ]
  },
  {
   "cell_type": "code",
   "execution_count": 1,
   "metadata": {},
   "outputs": [
    {
     "ename": "ModuleNotFoundError",
     "evalue": "No module named 'happyneuron'",
     "output_type": "error",
     "traceback": [
      "\u001b[0;31m---------------------------------------------------------------------------\u001b[0m",
      "\u001b[0;31mModuleNotFoundError\u001b[0m                       Traceback (most recent call last)",
      "\u001b[0;32m<ipython-input-1-283ddbfbe321>\u001b[0m in \u001b[0;36m<module>\u001b[0;34m\u001b[0m\n\u001b[0;32m----> 1\u001b[0;31m \u001b[0;32mfrom\u001b[0m \u001b[0mhappyneuron\u001b[0m\u001b[0;34m.\u001b[0m\u001b[0maligntk\u001b[0m\u001b[0;34m.\u001b[0m\u001b[0mpreprocess\u001b[0m \u001b[0;32mimport\u001b[0m \u001b[0mpreprocess_main\u001b[0m\u001b[0;34m\u001b[0m\u001b[0;34m\u001b[0m\u001b[0m\n\u001b[0m\u001b[1;32m      2\u001b[0m \u001b[0;32mimport\u001b[0m \u001b[0mhappyneuron\u001b[0m\u001b[0;34m\u001b[0m\u001b[0;34m\u001b[0m\u001b[0m\n\u001b[1;32m      3\u001b[0m \u001b[0;34m\u001b[0m\u001b[0m\n\u001b[1;32m      4\u001b[0m \u001b[0;32mdef\u001b[0m \u001b[0maligntk_create_dirs\u001b[0m\u001b[0;34m(\u001b[0m\u001b[0mOUTPUT_DIR\u001b[0m\u001b[0;34m,\u001b[0m \u001b[0mMASK_DIR\u001b[0m\u001b[0;34m)\u001b[0m\u001b[0;34m:\u001b[0m\u001b[0;34m\u001b[0m\u001b[0;34m\u001b[0m\u001b[0m\n\u001b[1;32m      5\u001b[0m     \u001b[0mos\u001b[0m\u001b[0;34m.\u001b[0m\u001b[0mmakedirs\u001b[0m\u001b[0;34m(\u001b[0m\u001b[0mOUTPUT_DIR\u001b[0m\u001b[0;34m,\u001b[0m \u001b[0mexist_ok\u001b[0m\u001b[0;34m=\u001b[0m\u001b[0;32mTrue\u001b[0m\u001b[0;34m)\u001b[0m\u001b[0;34m\u001b[0m\u001b[0;34m\u001b[0m\u001b[0m\n",
      "\u001b[0;31mModuleNotFoundError\u001b[0m: No module named 'happyneuron'"
     ]
    }
   ],
   "source": [
    "from happyneuron.aligntk.preprocess import preprocess_main\n",
    "import happyneuron\n",
    "\n"
   ]
  },
  {
   "cell_type": "code",
   "execution_count": 55,
   "metadata": {},
   "outputs": [],
   "source": [
    "n_proc = 5\n",
    "aligntk_dir = \"/projects/connectomics_aesp/software/aligntk-1.0.2/install/bin\"\n",
    "\n",
    "image_dir = \"/lus/theta-fs0/projects/connectomics_aesp/hanyuli/hpn_realign/data_cut/\"\n",
    "mask_dir = \"/lus/theta-fs0/projects/connectomics_aesp/hanyuli/hpn_realign/align_cut/masks/\"\n",
    "output_dir = \"/lus/theta-fs0/projects/connectomics_aesp/hanyuli/hpn_realign/align_cut/outputs_v2\"\n",
    "# preprocess\n",
    "aligntk_create_dirs(output_dir, mask_dir)\n",
    "make_schedule(output_dir)\n",
    "preprocess_main(image_dir, output_dir, n_groups=n_proc)"
   ]
  },
  {
   "cell_type": "code",
   "execution_count": 56,
   "metadata": {},
   "outputs": [
    {
     "name": "stdout",
     "output_type": "stream",
     "text": [
      "Updated existing app\n",
      "--aligntk_path=/projects/connectomics_aesp/software/aligntk-1.0.2/install/bin --pairs=/lus/theta-fs0/projects/connectomics_aesp/hanyuli/hpn_realign/align_cut/outputs_v2/pairs0.lst --images=/lus/theta-fs0/projects/connectomics_aesp/hanyuli/hpn_realign/data_cut/ --mask=/lus/theta-fs0/projects/connectomics_aesp/hanyuli/hpn_realign/align_cut/masks/ --output=/lus/theta-fs0/projects/connectomics_aesp/hanyuli/hpn_realign/align_cut/outputs_v2/cmaps --rotation=\"-10-10\" --max_res=8192 --scale=\"0.8-1.2\" --tx=\"-20-20\" --ty=\"-20-20\" --summary=/lus/theta-fs0/projects/connectomics_aesp/hanyuli/hpn_realign/align_cut/outputs_v2/cmaps/summary0.out\n",
      "--aligntk_path=/projects/connectomics_aesp/software/aligntk-1.0.2/install/bin --pairs=/lus/theta-fs0/projects/connectomics_aesp/hanyuli/hpn_realign/align_cut/outputs_v2/pairs1.lst --images=/lus/theta-fs0/projects/connectomics_aesp/hanyuli/hpn_realign/data_cut/ --mask=/lus/theta-fs0/projects/connectomics_aesp/hanyuli/hpn_realign/align_cut/masks/ --output=/lus/theta-fs0/projects/connectomics_aesp/hanyuli/hpn_realign/align_cut/outputs_v2/cmaps --rotation=\"-10-10\" --max_res=8192 --scale=\"0.8-1.2\" --tx=\"-20-20\" --ty=\"-20-20\" --summary=/lus/theta-fs0/projects/connectomics_aesp/hanyuli/hpn_realign/align_cut/outputs_v2/cmaps/summary1.out\n",
      "--aligntk_path=/projects/connectomics_aesp/software/aligntk-1.0.2/install/bin --pairs=/lus/theta-fs0/projects/connectomics_aesp/hanyuli/hpn_realign/align_cut/outputs_v2/pairs2.lst --images=/lus/theta-fs0/projects/connectomics_aesp/hanyuli/hpn_realign/data_cut/ --mask=/lus/theta-fs0/projects/connectomics_aesp/hanyuli/hpn_realign/align_cut/masks/ --output=/lus/theta-fs0/projects/connectomics_aesp/hanyuli/hpn_realign/align_cut/outputs_v2/cmaps --rotation=\"-10-10\" --max_res=8192 --scale=\"0.8-1.2\" --tx=\"-20-20\" --ty=\"-20-20\" --summary=/lus/theta-fs0/projects/connectomics_aesp/hanyuli/hpn_realign/align_cut/outputs_v2/cmaps/summary2.out\n",
      "--aligntk_path=/projects/connectomics_aesp/software/aligntk-1.0.2/install/bin --pairs=/lus/theta-fs0/projects/connectomics_aesp/hanyuli/hpn_realign/align_cut/outputs_v2/pairs3.lst --images=/lus/theta-fs0/projects/connectomics_aesp/hanyuli/hpn_realign/data_cut/ --mask=/lus/theta-fs0/projects/connectomics_aesp/hanyuli/hpn_realign/align_cut/masks/ --output=/lus/theta-fs0/projects/connectomics_aesp/hanyuli/hpn_realign/align_cut/outputs_v2/cmaps --rotation=\"-10-10\" --max_res=8192 --scale=\"0.8-1.2\" --tx=\"-20-20\" --ty=\"-20-20\" --summary=/lus/theta-fs0/projects/connectomics_aesp/hanyuli/hpn_realign/align_cut/outputs_v2/cmaps/summary3.out\n",
      "--aligntk_path=/projects/connectomics_aesp/software/aligntk-1.0.2/install/bin --pairs=/lus/theta-fs0/projects/connectomics_aesp/hanyuli/hpn_realign/align_cut/outputs_v2/pairs4.lst --images=/lus/theta-fs0/projects/connectomics_aesp/hanyuli/hpn_realign/data_cut/ --mask=/lus/theta-fs0/projects/connectomics_aesp/hanyuli/hpn_realign/align_cut/masks/ --output=/lus/theta-fs0/projects/connectomics_aesp/hanyuli/hpn_realign/align_cut/outputs_v2/cmaps --rotation=\"-10-10\" --max_res=8192 --scale=\"0.8-1.2\" --tx=\"-20-20\" --ty=\"-20-20\" --summary=/lus/theta-fs0/projects/connectomics_aesp/hanyuli/hpn_realign/align_cut/outputs_v2/cmaps/summary4.out\n"
     ]
    }
   ],
   "source": [
    "from happyneuron.aligntk.find_rst import find_rst\n",
    "import re\n",
    "env_preamble = '/lus/theta-fs0/projects/connectomics_aesp/software/HappyNeuron/macros_theta/theta_build_preamble.sh'\n",
    "\n",
    "        \n",
    "    \n",
    "aligntk_rst_job(workflow_name='test_find_rst', \n",
    "                aligntk_path=aligntk_dir,\n",
    "                #pairs=output_dir+'pairs.lst',\n",
    "                images=image_dir,\n",
    "                mask=mask_dir,\n",
    "                output=output_dir,\n",
    "                rotation='-10-10',\n",
    "                max_res=8192,\n",
    "                scale='0.8-1.2',\n",
    "                tx='-20-20',\n",
    "                ty='-20-20',\n",
    "                n_proc=n_proc\n",
    "               )\n",
    "\n",
    "\n",
    "                \n",
    "                "
   ]
  },
  {
   "cell_type": "code",
   "execution_count": 57,
   "metadata": {},
   "outputs": [
    {
     "name": "stdout",
     "output_type": "stream",
     "text": [
      "Submit OK: Qlaunch {   'command': '/lus/theta-fs0/projects/connectomics_aesp/hanyuli/balsam_db/qsubmit/qlaunch9.sh',\n",
      "    'from_balsam': True,\n",
      "    'id': 9,\n",
      "    'job_mode': 'mpi',\n",
      "    'nodes': 1,\n",
      "    'prescheduled_only': False,\n",
      "    'project': 'connectomics_aesp',\n",
      "    'queue': 'debug-flat-quad',\n",
      "    'scheduler_id': 383447,\n",
      "    'state': 'submitted',\n",
      "    'wall_minutes': 40,\n",
      "    'wf_filter': 'test_find_rst'}\n"
     ]
    }
   ],
   "source": [
    "workflow = 'test_find_rst'\n",
    "\n",
    "submit(project='connectomics_aesp',\n",
    "       queue='debug-flat-quad',\n",
    "       nodes=1,\n",
    "       job_mode='mpi',\n",
    "       wall_minutes=40,\n",
    "       wf_filter=workflow)\n"
   ]
  },
  {
   "cell_type": "code",
   "execution_count": null,
   "metadata": {},
   "outputs": [],
   "source": [
    "from happyneuron.aligntk.register import register\n",
    "import re\n",
    "\n",
    "\n",
    "def aligntk_rst_job(\n",
    "    workflow_name,\n",
    "    aligntk_path,\n",
    "    images,\n",
    "    mask,\n",
    "    output,\n",
    "    rotation,\n",
    "    max_res,\n",
    "    scale,\n",
    "    tx,\n",
    "    ty,\n",
    "    n_proc):\n",
    "    for n in range(n_proc):\n",
    "        pairs = os.path.join(output, 'pairs%d.lst' % n)\n",
    "        cmaps_output = os.path.join(output, 'cmaps')\n",
    "        summary = os.path.join(cmaps_output, 'summary%d.out' % n)\n",
    "        \n",
    "        find_rst_args = (f'--aligntk_path={aligntk_path}'\n",
    "            f' --pairs={pairs}'\n",
    "            f' --images={images}'\n",
    "            f' --mask={mask}'\n",
    "            f' --output={cmaps_output}'\n",
    "            f' --rotation=\"{rotation}\"'\n",
    "            f' --max_res={max_res}'\n",
    "            f' --scale=\"{scale}\"'\n",
    "            f' --tx=\"{tx}\"'\n",
    "            f' --ty=\"{ty}\"'\n",
    "            f' --summary={summary}')\n",
    "\n",
    "        print(find_rst_args)\n",
    "\n",
    "        add_job(name=f'find_rst',                                                                                                                                                                                                                                                                     \n",
    "            workflow=workflow_name,                                                                                                                                                                                                                                                                  \n",
    "            application='aligntk_findrst',                                                                                                                                                                                                                                                            \n",
    "            num_nodes=1,                                                                                                                                                                                                                                                                     \n",
    "            args=find_rst_args,                                                                                                                                                                                                                                                                       \n",
    "            ranks_per_node=n_proc,                                                                                                                                                                                                                                                                        \n",
    "            environ_vars='OMP_NUM_THREADS=32') \n",
    "        \n",
    "    \n",
    "aligntk_rst_job(workflow_name='test_find_rst', \n",
    "                aligntk_path=aligntk_dir,\n",
    "                #pairs=output_dir+'pairs.lst',\n",
    "                images=image_dir,\n",
    "                mask=mask_dir,\n",
    "                output=output_dir,\n",
    "                rotation='-10-10',\n",
    "                max_res=8192,\n",
    "                scale='0.8-1.2',\n",
    "                tx='-20-20',\n",
    "                ty='-20-20',\n",
    "                n_proc=n_proc\n",
    "               )\n",
    "\n",
    "\n",
    "                "
   ]
  }
 ],
 "metadata": {
  "kernelspec": {
   "display_name": "Python 3",
   "language": "python",
   "name": "python3"
  },
  "language_info": {
   "codemirror_mode": {
    "name": "ipython",
    "version": 3
   },
   "file_extension": ".py",
   "mimetype": "text/x-python",
   "name": "python",
   "nbconvert_exporter": "python",
   "pygments_lexer": "ipython3",
   "version": "3.6.8"
  }
 },
 "nbformat": 4,
 "nbformat_minor": 2
}
